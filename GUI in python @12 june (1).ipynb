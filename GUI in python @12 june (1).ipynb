{
 "cells": [
  {
   "cell_type": "markdown",
   "id": "21096a8b-4e58-44e4-8887-3df88d3b586b",
   "metadata": {},
   "source": [
    "# 12 and 13 June"
   ]
  },
  {
   "cell_type": "markdown",
   "id": "13a2c075-5c74-48da-b80b-e11115010979",
   "metadata": {},
   "source": [
    "## GUI in python"
   ]
  },
  {
   "cell_type": "code",
   "execution_count": 18,
   "id": "49ea909f-f807-4e96-8c41-361eb983f033",
   "metadata": {},
   "outputs": [],
   "source": [
    "import tkinter as tk\n",
    "from tkinter import BooleanVar\n",
    "from tkinter.ttk import *\n",
    "from tkinter import scrolledtext\n",
    "from tkinter import messagebox"
   ]
  },
  {
   "cell_type": "code",
   "execution_count": 9,
   "id": "fccca3e2-f390-4ce5-a035-674dfd304c12",
   "metadata": {},
   "outputs": [],
   "source": [
    "top = tk.Tk()\n",
    "\n",
    "top.title('My Application')\n",
    "top.geometry('500x400')\n",
    "\n",
    "b1 = tk.Button(top, text = 'click me!!!', bg = 'orange').grid(column=0 , row=1)\n",
    "e1 = tk.Entry(top).grid(column=1 , row=1)\n",
    "t1 = tk.Text(top).grid(column=2 , row=2)\n",
    "l1 = tk.Label(top, text = 'Welcome', font = ('Ariel Bold', 50)).grid(column=2 , row=1)\n",
    "\n",
    "# combo box\n",
    "\n",
    "combo = Combobox(top)\n",
    "combo['values']=[1,2,3,4,'next']\n",
    "combo.current(2)\n",
    "combo.grid(column=0 , row=0)\n",
    "\n",
    "# check button\n",
    "\n",
    "ch = BooleanVar()\n",
    "ch.set(True)\n",
    "cb = Checkbutton(top, text='Done', var=ch,width = 30).grid(column=0 , row=0)\n",
    "\n",
    "# scrolled text\n",
    "\n",
    "st = scrolledtext.ScrolledText(top, width = 40, height = 10).grid(column=3 , row=3)\n",
    "\n",
    "\n",
    "top.mainloop()"
   ]
  },
  {
   "cell_type": "markdown",
   "id": "628d4d29-3c07-4915-9d1d-1764b8387352",
   "metadata": {},
   "source": [
    "##### square of a number"
   ]
  },
  {
   "cell_type": "code",
   "execution_count": 20,
   "id": "03a89519-c66f-4458-a94b-a3860322a0a7",
   "metadata": {},
   "outputs": [],
   "source": [
    "top = tk.Tk()\n",
    "\n",
    "top.title('Square')\n",
    "top.geometry('500x400')\n",
    "\n",
    "a = tk.IntVar()\n",
    "\n",
    "def square():\n",
    "    num = a.get()\n",
    "    sq = num * num\n",
    "    result = tk.Label(top, text = 'square is %i' %sq).place(x = 120, y=170)\n",
    "    messagebox.showinfo(\"result\", \"square is %i\" %sq)\n",
    "\n",
    "l = tk.Label(top, text = 'INPUT').place(x = 20, y = 100)\n",
    "e = tk.Entry(top, textvariable = a).place(x = 100, y = 100)\n",
    "b = tk.Button(top, text = 'Submit', bg = 'orange', command = square).place(x = 120, y = 150)\n",
    "\n",
    "\n",
    "\n",
    "\n",
    "top.mainloop()"
   ]
  },
  {
   "cell_type": "markdown",
   "id": "5a4b4f7f-c616-4c18-b798-2a28d4e97724",
   "metadata": {},
   "source": [
    "##### create for Addition, sub, mult,div of 2 numbers"
   ]
  },
  {
   "cell_type": "code",
   "execution_count": 42,
   "id": "ada7a4f2-8d8a-483a-ab45-2c530484c3c5",
   "metadata": {},
   "outputs": [],
   "source": [
    "top = tk.Tk()\n",
    "\n",
    "top.title('Calc')\n",
    "top.geometry('500x400')\n",
    "\n",
    "a1 = tk.IntVar()\n",
    "a2 = tk.IntVar()\n",
    "\n",
    "\n",
    "def add():\n",
    "    add = a1.get() + a2.get()\n",
    "    messagebox.showinfo(\"result\", \"Addition is %i\" %add)\n",
    "\n",
    "\n",
    "l = tk.Label(top, text = 'INPUT').place(x = 20, y = 100)\n",
    "l1 = tk.Label(top, text = 'INPUT').place(x = 20, y = 130)\n",
    "e = tk.Entry(top, textvariable = a1).place(x = 100, y = 100)\n",
    "e1 = tk.Entry(top, textvariable = a2).place(x = 100, y = 130)\n",
    "\n",
    "b = tk.Button(top, text = 'Submit', bg = 'orange', command = add).place(x = 180, y = 160)\n",
    "\n",
    "\n",
    "\n",
    "\n",
    "top.mainloop()\n",
    "                                                                           "
   ]
  },
  {
   "cell_type": "code",
   "execution_count": null,
   "id": "61dd8c8e-dc99-4bb7-9429-2696d39cf67d",
   "metadata": {},
   "outputs": [],
   "source": []
  }
 ],
 "metadata": {
  "kernelspec": {
   "display_name": "Python 3 (ipykernel)",
   "language": "python",
   "name": "python3"
  },
  "language_info": {
   "codemirror_mode": {
    "name": "ipython",
    "version": 3
   },
   "file_extension": ".py",
   "mimetype": "text/x-python",
   "name": "python",
   "nbconvert_exporter": "python",
   "pygments_lexer": "ipython3",
   "version": "3.11.7"
  }
 },
 "nbformat": 4,
 "nbformat_minor": 5
}
