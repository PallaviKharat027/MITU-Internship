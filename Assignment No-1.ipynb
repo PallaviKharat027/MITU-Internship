{
 "cells": [
  {
   "cell_type": "markdown",
   "id": "d9144c02-7e25-4b2c-b298-6c2d595c8e9f",
   "metadata": {},
   "source": [
    "# Assignment No-1"
   ]
  },
  {
   "cell_type": "markdown",
   "id": "50749648-c0c3-4fba-9cef-8a816dc7a781",
   "metadata": {},
   "source": [
    "#### 1.Question"
   ]
  },
  {
   "cell_type": "code",
   "execution_count": null,
   "id": "a09c5f73-ca8e-48a9-a0d1-3ee605b37845",
   "metadata": {},
   "outputs": [],
   "source": [
    "# 1.Write a program to convert specified days into years,weeks and day.Take user input. Note:ignore leap year. "
   ]
  },
  {
   "cell_type": "code",
   "execution_count": 8,
   "id": "45099a2f-1766-41b8-874d-f3d3ba4b8812",
   "metadata": {},
   "outputs": [
    {
     "name": "stdin",
     "output_type": "stream",
     "text": [
      "Enter the Number of Days 385\n"
     ]
    },
    {
     "name": "stdout",
     "output_type": "stream",
     "text": [
      "Total Number of Year: 1\n",
      "Total Number of Week: 2\n",
      "Total Number of Day: 6\n"
     ]
    }
   ],
   "source": [
    "\n",
    "num = int(input(\"Enter the Number of Days\"))\n",
    "\n",
    "year = int(num/365)\n",
    "week = int((num%365)/7)\n",
    "days = int((num%365)%7)\n",
    "\n",
    "print(\"Total Number of Year:\",year)\n",
    "print(\"Total Number of Week:\",week)\n",
    "print(\"Total Number of Day:\",days)\n"
   ]
  },
  {
   "cell_type": "markdown",
   "id": "c00699f4-e930-43f6-b995-2ce8651d805b",
   "metadata": {},
   "source": [
    "#### 2.Question"
   ]
  },
  {
   "cell_type": "code",
   "execution_count": null,
   "id": "4726a178-7516-4357-be59-9b80f7e60a0b",
   "metadata": {},
   "outputs": [],
   "source": [
    " 2.Write a Python program to input basiPython salary of an employee and\n",
    " calculate its Gross salary according to following:\n",
    " Basic Salary <= 10000 : HRA = 20%, DA = 80%\n",
    " Basic Salary <= 20000 : HRA = 30%, DA = 90%\n",
    " Basic Salary > 20000 : HRA = 35%, DA = 95%"
   ]
  },
  {
   "cell_type": "code",
   "execution_count": 6,
   "id": "651a6b20-ce5a-4e90-b848-87f83a8e1c81",
   "metadata": {},
   "outputs": [
    {
     "name": "stdin",
     "output_type": "stream",
     "text": [
      "Enter the basic salary: 23000\n"
     ]
    },
    {
     "name": "stdout",
     "output_type": "stream",
     "text": [
      "gross salary of employee is: 51750.0\n"
     ]
    }
   ],
   "source": [
    "basic=float(input('Enter the basic salary:'))\n",
    "if basic <= 10000:\n",
    "    da=basic*0.8\n",
    "    hra=basic*0.2\n",
    "elif basic <=20000:\n",
    "    da=basic*0.9\n",
    "    hra=basic*0.25\n",
    "else:\n",
    "    da=basic*0.95\n",
    "    hra=basic*0.3\n",
    "    gross=basic+da+hra\n",
    "    \n",
    "print('gross salary of employee is:',gross)"
   ]
  },
  {
   "cell_type": "markdown",
   "id": "ddeab8ac-c340-47c3-b54c-e575b84d893b",
   "metadata": {},
   "source": [
    "#### 3.Question"
   ]
  },
  {
   "cell_type": "code",
   "execution_count": null,
   "id": "d8cbbed0-566e-4b0e-8d48-271e81972933",
   "metadata": {},
   "outputs": [],
   "source": [
    "3. Write a Python program to input electricity unit charges and calculate total\n",
    "electricity bill according to the given condition:\n",
    "For first 50 units Rs. 0.50/unit\n",
    "For next 100 units Rs. 0.75/unit\n",
    "For next 100 units Rs. 1.25/unit\n",
    "For unit above 250 Rs. 1.50/unit\n",
    "An additional surcharge of 17% is added to the bill"
   ]
  },
  {
   "cell_type": "code",
   "execution_count": 5,
   "id": "00e34cc6-f52e-4af4-8516-8d2c7620a785",
   "metadata": {},
   "outputs": [
    {
     "name": "stdin",
     "output_type": "stream",
     "text": [
      "enter the number of unit 120\n"
     ]
    },
    {
     "name": "stdout",
     "output_type": "stream",
     "text": [
      "total bill after adding surcharge =  90.675\n"
     ]
    }
   ],
   "source": [
    "units = int(input(\"enter the number of unit\"))\n",
    "if units <= 50:\n",
    "    total_bill = (50 * 0.50)\n",
    "elif units <= 150:\n",
    "    total_bill = (50 * 0.50) + (units - 50) * 0.75\n",
    "elif units <= 250:\n",
    "    total_bill = (50 * 0.50) + (100 * 0.75) + (units - 150) * 1.25\n",
    "else:\n",
    "    total_bill = (50 * 0.50) + (100 * 0.75) + (100 * 1.25) + (units - 250) * 1.50\n",
    "\n",
    "surcharge = total_bill * 0.17\n",
    "total_bill = total_bill + surcharge\n",
    "print(\"total bill after adding surcharge = \",total_bill)"
   ]
  },
  {
   "cell_type": "markdown",
   "id": "76f2c707-5486-4950-bbf3-944e2865a1dc",
   "metadata": {},
   "source": [
    "#### 4.Question"
   ]
  },
  {
   "cell_type": "code",
   "execution_count": null,
   "id": "1a16cb52-e6ae-4629-9ae7-434ab8bcde46",
   "metadata": {},
   "outputs": [],
   "source": [
    "4. Write a Python program to print the given number patterns.\n",
    "1\n",
    "2 2\n",
    "3 3 3\n",
    "4 4 4 4\n",
    "5 5 5 5 5"
   ]
  },
  {
   "cell_type": "code",
   "execution_count": 7,
   "id": "1822285e-1f58-4398-9e46-67a3d7dd9f29",
   "metadata": {},
   "outputs": [
    {
     "name": "stdin",
     "output_type": "stream",
     "text": [
      "enter no of rows: 5\n"
     ]
    },
    {
     "name": "stdout",
     "output_type": "stream",
     "text": [
      "\n",
      "1 \n",
      "2 2 \n",
      "3 3 3 \n",
      "4 4 4 4 \n",
      "5 5 5 5 5 "
     ]
    }
   ],
   "source": [
    "num=int(input('enter no of rows:'))\n",
    "for i in range(1,5+1):\n",
    "    print()\n",
    "    for j in range(i):\n",
    "        print(i,end=' ')"
   ]
  },
  {
   "cell_type": "markdown",
   "id": "889862e2-e165-40fb-a037-ac827adec466",
   "metadata": {},
   "source": [
    "#### 5.Question"
   ]
  },
  {
   "cell_type": "code",
   "execution_count": null,
   "id": "6afcae46-6019-49be-b648-4dfdd8f87220",
   "metadata": {},
   "outputs": [],
   "source": [
    "5.Write a Python program to calculate product of digits of a number. Read\n",
    "value of n from user."
   ]
  },
  {
   "cell_type": "code",
   "execution_count": 4,
   "id": "c589825d-881a-49a8-a0cd-489c7dfca4fa",
   "metadata": {},
   "outputs": [
    {
     "name": "stdin",
     "output_type": "stream",
     "text": [
      "Enter the number 123\n"
     ]
    },
    {
     "name": "stdout",
     "output_type": "stream",
     "text": [
      "6\n"
     ]
    }
   ],
   "source": [
    "\n",
    "num = int(input(\"Enter the number\"))\n",
    "mul = 1\n",
    "while num > 0:\n",
    "    rem = num % 10\n",
    "    mul = mul * rem\n",
    "    num = num // 10\n",
    "else:\n",
    "    print(mul)"
   ]
  },
  {
   "cell_type": "markdown",
   "id": "ff5594cf-3ef4-4bd1-922a-5ae797c4b1fd",
   "metadata": {},
   "source": [
    "#### 6.Question"
   ]
  },
  {
   "cell_type": "code",
   "execution_count": null,
   "id": "65db7d12-320e-4b1a-b9ad-818cfe95c3a8",
   "metadata": {},
   "outputs": [],
   "source": [
    "6. Create a list of elements like: x = [45, 67, 12, ‘Hello’, 23.45, ‘World’] and\n",
    "oerform following.\n"
   ]
  },
  {
   "cell_type": "code",
   "execution_count": 19,
   "id": "8435eb71-ea5e-4b19-ac91-dd0ff00c8ffe",
   "metadata": {},
   "outputs": [
    {
     "data": {
      "text/plain": [
       "[45, 67, 12, 'Hello', 23.45, 'World']"
      ]
     },
     "execution_count": 19,
     "metadata": {},
     "output_type": "execute_result"
    }
   ],
   "source": [
    "x = [45, 67, 12, 'Hello', 23.45, 'World']\n",
    "x"
   ]
  },
  {
   "cell_type": "code",
   "execution_count": 20,
   "id": "80c625ce-2d51-4e6d-bfbd-1a2dbab3909f",
   "metadata": {},
   "outputs": [
    {
     "name": "stdout",
     "output_type": "stream",
     "text": [
      "['Hello', 'World']\n"
     ]
    }
   ],
   "source": [
    "# 1. Extract only string values from this list.\n",
    "x1 = []\n",
    "for n in x:\n",
    "    if type(n) == str:\n",
    "        x1.append(n)\n",
    "print(x1)\n",
    " "
   ]
  },
  {
   "cell_type": "code",
   "execution_count": 21,
   "id": "6fe7d602-4a65-489d-84e8-90cfcafe9438",
   "metadata": {},
   "outputs": [
    {
     "name": "stdout",
     "output_type": "stream",
     "text": [
      "['HELLO', 'WORLD']\n"
     ]
    }
   ],
   "source": [
    " # 2. Create a new list with strings in upper case\n",
    "x2 = []\n",
    "for n in x:\n",
    "    if type(n) == str:\n",
    "        x2.append(n.upper())\n",
    "print(x2)\n"
   ]
  },
  {
   "cell_type": "code",
   "execution_count": 22,
   "id": "9baaf71c-f45d-44dd-b96c-be70bf6df5d0",
   "metadata": {},
   "outputs": [
    {
     "name": "stdout",
     "output_type": "stream",
     "text": [
      "124\n"
     ]
    }
   ],
   "source": [
    "# 3.Find the addition of integer values\n",
    "sum = 0\n",
    "for n in x:\n",
    "    if type(n) == int:\n",
    "        sum = sum + n\n",
    "print(sum)\n",
    " "
   ]
  },
  {
   "cell_type": "code",
   "execution_count": null,
   "id": "4ae9862d-44e2-4a62-b7f9-dbe0b6bd4874",
   "metadata": {},
   "outputs": [],
   "source": [
    "4. Check that the value 56 is present in it or not.\n"
   ]
  },
  {
   "cell_type": "code",
   "execution_count": 23,
   "id": "5ca89a2e-b43d-417a-83ba-32ab00545bb8",
   "metadata": {},
   "outputs": [
    {
     "data": {
      "text/plain": [
       "[45, 67, 12, 'Hello', 23.45, 'World']"
      ]
     },
     "execution_count": 23,
     "metadata": {},
     "output_type": "execute_result"
    }
   ],
   "source": [
    "x"
   ]
  },
  {
   "cell_type": "code",
   "execution_count": 24,
   "id": "c566b37b-ab70-4a0f-a5b9-eea6b3e19f71",
   "metadata": {},
   "outputs": [
    {
     "data": {
      "text/plain": [
       "False"
      ]
     },
     "execution_count": 24,
     "metadata": {},
     "output_type": "execute_result"
    }
   ],
   "source": [
    "56 in x"
   ]
  },
  {
   "cell_type": "code",
   "execution_count": null,
   "id": "20ad89a7-b652-4931-b477-d859e8d0b5ed",
   "metadata": {},
   "outputs": [],
   "source": [
    "5. Print the list in reverse order.\n"
   ]
  },
  {
   "cell_type": "code",
   "execution_count": 25,
   "id": "13316203-d5a4-40a7-9b63-25b2bf3d56b8",
   "metadata": {},
   "outputs": [
    {
     "data": {
      "text/plain": [
       "[45, 67, 12, 'Hello', 23.45, 'World']"
      ]
     },
     "execution_count": 25,
     "metadata": {},
     "output_type": "execute_result"
    }
   ],
   "source": [
    "x"
   ]
  },
  {
   "cell_type": "code",
   "execution_count": 7,
   "id": "7b2e9f77-0c65-47b7-ab5e-69ee21ad4334",
   "metadata": {},
   "outputs": [
    {
     "data": {
      "text/plain": [
       "['World', 23.45, 'Hello', 12, 67, 45]"
      ]
     },
     "execution_count": 7,
     "metadata": {},
     "output_type": "execute_result"
    }
   ],
   "source": [
    "x.reverse()\n",
    "x"
   ]
  },
  {
   "cell_type": "code",
   "execution_count": null,
   "id": "fe5e098c-25e6-4c04-aaf6-12494507309f",
   "metadata": {},
   "outputs": [],
   "source": [
    "# 6. Delete the string ‘Hello’ from it.\n"
   ]
  },
  {
   "cell_type": "code",
   "execution_count": 9,
   "id": "ed0f4b69-3b00-4a84-bc45-ead1032c9edf",
   "metadata": {},
   "outputs": [
    {
     "data": {
      "text/plain": [
       "['World', 23.45, 'Hello', 12, 67, 45]"
      ]
     },
     "execution_count": 9,
     "metadata": {},
     "output_type": "execute_result"
    }
   ],
   "source": [
    "x"
   ]
  },
  {
   "cell_type": "code",
   "execution_count": 10,
   "id": "c8d64e8b-df1d-4793-82bf-1d88170f72d9",
   "metadata": {},
   "outputs": [
    {
     "data": {
      "text/plain": [
       "['World', 23.45, 12, 67, 45]"
      ]
     },
     "execution_count": 10,
     "metadata": {},
     "output_type": "execute_result"
    }
   ],
   "source": [
    "del x[2]\n",
    "x"
   ]
  },
  {
   "cell_type": "code",
   "execution_count": 35,
   "id": "c98f5149-84ab-4173-953a-0c417a9c1fe8",
   "metadata": {},
   "outputs": [
    {
     "data": {
      "text/plain": [
       "[45, 67, 12, 'Hello', 23.45, 36]"
      ]
     },
     "execution_count": 35,
     "metadata": {},
     "output_type": "execute_result"
    }
   ],
   "source": [
    "#7. Insert a new value of 36 at 5th position in list.\n",
    "x.insert(5,36)\n",
    "x"
   ]
  },
  {
   "cell_type": "code",
   "execution_count": 28,
   "id": "b59dbe73-bb95-47b8-b96f-b7b51cd4b2ac",
   "metadata": {},
   "outputs": [],
   "source": [
    "#8. Count total number of elements in list now.\n"
   ]
  },
  {
   "cell_type": "code",
   "execution_count": 12,
   "id": "99246dbb-ed7c-44b4-9596-547a708d9370",
   "metadata": {},
   "outputs": [
    {
     "data": {
      "text/plain": [
       "['World', 23.45, 'Hello', 12, 67, 36, 45]"
      ]
     },
     "execution_count": 12,
     "metadata": {},
     "output_type": "execute_result"
    }
   ],
   "source": [
    "x"
   ]
  },
  {
   "cell_type": "code",
   "execution_count": 36,
   "id": "27a9d7f6-b886-4eca-b35d-2fe8633cb5a8",
   "metadata": {},
   "outputs": [
    {
     "data": {
      "text/plain": [
       "6"
      ]
     },
     "execution_count": 36,
     "metadata": {},
     "output_type": "execute_result"
    }
   ],
   "source": [
    "len(x)"
   ]
  },
  {
   "cell_type": "code",
   "execution_count": 38,
   "id": "18e7b487-ba08-4a30-920d-fb66d8d68cf0",
   "metadata": {},
   "outputs": [
    {
     "name": "stdout",
     "output_type": "stream",
     "text": [
      "12 36\n"
     ]
    }
   ],
   "source": [
    "# 9. Extract the values from 2nd index to 5th index.\n",
    "print(x[2],x[5])\n"
   ]
  },
  {
   "cell_type": "code",
   "execution_count": 39,
   "id": "fbd92de6-4117-4c9a-b0eb-7df566957e9e",
   "metadata": {},
   "outputs": [
    {
     "name": "stdout",
     "output_type": "stream",
     "text": [
      "[45, 67, 12, 'Hello', 23.45, 36, 34, 'Pune']\n"
     ]
    }
   ],
   "source": [
    "# 10. Append [34, ‘Pune’] to this list.\n",
    "x.append(34)\n",
    "x.append(\"Pune\")\n",
    "print(x)"
   ]
  },
  {
   "cell_type": "code",
   "execution_count": 40,
   "id": "214e2205-4fc1-429d-8735-fc8f1bb6bd6b",
   "metadata": {},
   "outputs": [
    {
     "name": "stdout",
     "output_type": "stream",
     "text": [
      "[45, 67, 12, 'Hello', 23.45, 36, 34]\n"
     ]
    }
   ],
   "source": [
    "#11. Delete the last element from list.\n",
    "del x[-1]\n",
    "print(x)\n"
   ]
  },
  {
   "cell_type": "markdown",
   "id": "65bc64bf-707b-4e22-9a88-13ad06c71534",
   "metadata": {},
   "source": [
    "#### 7.Question"
   ]
  },
  {
   "cell_type": "code",
   "execution_count": null,
   "id": "3c362a96-b3e2-421e-ac8e-03c2fa7abca9",
   "metadata": {},
   "outputs": [],
   "source": [
    "7. Create a tuple of elements with 5 float values in it and perform following\n",
    "operations."
   ]
  },
  {
   "cell_type": "code",
   "execution_count": 13,
   "id": "6cb117ac-5443-48dc-ad10-29329e0766cb",
   "metadata": {},
   "outputs": [
    {
     "data": {
      "text/plain": [
       "(12, 23, 100, 90, 45, 50, 10, 67)"
      ]
     },
     "execution_count": 13,
     "metadata": {},
     "output_type": "execute_result"
    }
   ],
   "source": [
    "t=(12,23,100,90,45,50,10,67)\n",
    "t"
   ]
  },
  {
   "cell_type": "code",
   "execution_count": 37,
   "id": "a9eedd20-a556-47aa-8ed6-a3eddf197251",
   "metadata": {},
   "outputs": [
    {
     "data": {
      "text/plain": [
       "[10, 12, 23, 45, 50, 67, 90, 100]"
      ]
     },
     "execution_count": 37,
     "metadata": {},
     "output_type": "execute_result"
    }
   ],
   "source": [
    "#1. Print the data in sorted manner.\n",
    "sorted(t)\n"
   ]
  },
  {
   "cell_type": "code",
   "execution_count": 38,
   "id": "110295e1-016b-4280-8937-715617978ccb",
   "metadata": {},
   "outputs": [
    {
     "data": {
      "text/plain": [
       "True"
      ]
     },
     "execution_count": 38,
     "metadata": {},
     "output_type": "execute_result"
    }
   ],
   "source": [
    "#2. Check to see that the element 50 is present in it.\n",
    "50 in t"
   ]
  },
  {
   "cell_type": "code",
   "execution_count": 42,
   "id": "30f23f2c-e5a7-460e-ab23-9fe6da05d6c9",
   "metadata": {},
   "outputs": [
    {
     "name": "stdout",
     "output_type": "stream",
     "text": [
      "{67, 100, 10, 12, 45, 50, 23, 90}\n"
     ]
    }
   ],
   "source": [
    "#3. Convert this tuple in set.\n",
    "print(set(t))\n"
   ]
  },
  {
   "cell_type": "markdown",
   "id": "c4797f2d-261a-42ab-8711-f706baab0261",
   "metadata": {},
   "source": [
    "#### 8.Question"
   ]
  },
  {
   "cell_type": "code",
   "execution_count": null,
   "id": "e54045bb-4d67-4ff0-b280-d4f752fb855a",
   "metadata": {},
   "outputs": [],
   "source": [
    "8. Create a dictionary of elements: {‘a’: ‘apple’, ‘b’: ‘ball’, ‘c’: ‘cat’, ‘d’: ‘doll’, ‘k’:\n",
    "‘king’} and\n",
    "perform following operations."
   ]
  },
  {
   "cell_type": "code",
   "execution_count": 2,
   "id": "68e09999-d9cd-44fd-997f-c5dda34790f2",
   "metadata": {},
   "outputs": [
    {
     "data": {
      "text/plain": [
       "{'a': 'apple', 'b': 'ball', 'c': 'cat', 'd': 'doll', 'k': 'king'}"
      ]
     },
     "execution_count": 2,
     "metadata": {},
     "output_type": "execute_result"
    }
   ],
   "source": [
    "d={'a': 'apple', 'b': 'ball', 'c': 'cat', 'd': 'doll', 'k':\n",
    "'king'}\n",
    "d"
   ]
  },
  {
   "cell_type": "code",
   "execution_count": 3,
   "id": "66c37bee-5251-4540-8e1a-6a07659b4e80",
   "metadata": {},
   "outputs": [
    {
     "data": {
      "text/plain": [
       "'king'"
      ]
     },
     "execution_count": 3,
     "metadata": {},
     "output_type": "execute_result"
    }
   ],
   "source": [
    "#1. Access the data at key ‘k’.\n",
    "d['k']\n",
    "\n"
   ]
  },
  {
   "cell_type": "code",
   "execution_count": 4,
   "id": "3b0068cb-477e-4c38-94ba-15de37045af3",
   "metadata": {},
   "outputs": [
    {
     "data": {
      "text/plain": [
       "{'a': 'apple', 'b': 'ball', 'c': 'cat', 'd': 'doll', 'k': 'king', 'z': 'zebra'}"
      ]
     },
     "execution_count": 4,
     "metadata": {},
     "output_type": "execute_result"
    }
   ],
   "source": [
    "#2. Add a new values ‘z’: ‘zebra’\n",
    "d['z']='zebra'\n",
    "d\n"
   ]
  },
  {
   "cell_type": "code",
   "execution_count": 6,
   "id": "8bea88f9-eb50-47ec-988f-158f8dd45028",
   "metadata": {},
   "outputs": [
    {
     "name": "stdout",
     "output_type": "stream",
     "text": [
      "{'a': 'apple', 'b': 'ball', 'c': 'cat', 'd': 'dog', 'k': 'king', 'z': 'zebra'}\n"
     ]
    }
   ],
   "source": [
    "#3. Replace the contents of ‘d’ as ‘dog’\n",
    "d['d'] = \"dog\"\n",
    "print(d)\n"
   ]
  },
  {
   "cell_type": "code",
   "execution_count": 7,
   "id": "c4360a66-346f-4fb5-8ef9-219988ab3c28",
   "metadata": {},
   "outputs": [
    {
     "data": {
      "text/plain": [
       "dict_values(['apple', 'ball', 'cat', 'dog', 'king', 'zebra'])"
      ]
     },
     "execution_count": 7,
     "metadata": {},
     "output_type": "execute_result"
    }
   ],
   "source": [
    "#4. Print all the values from this dictionary.\n",
    "d.values()"
   ]
  },
  {
   "cell_type": "code",
   "execution_count": 8,
   "id": "43a9fc32-e584-42a8-b383-b93b61616633",
   "metadata": {},
   "outputs": [
    {
     "data": {
      "text/plain": [
       "6"
      ]
     },
     "execution_count": 8,
     "metadata": {},
     "output_type": "execute_result"
    }
   ],
   "source": [
    "#5. Find the length of this dictionary.\n",
    "len(d)"
   ]
  },
  {
   "cell_type": "markdown",
   "id": "83c29e75-a8c3-4b5b-8404-ef6634ea5e9c",
   "metadata": {},
   "source": [
    "#### 9.Question"
   ]
  },
  {
   "cell_type": "code",
   "execution_count": 9,
   "id": "41cfec2c-618b-4e9d-a778-89900726d1f2",
   "metadata": {},
   "outputs": [
    {
     "name": "stdout",
     "output_type": "stream",
     "text": [
      "[98, 76, 68, 67, 53, 45, 24, 12]\n",
      "Second largest number is  76\n"
     ]
    }
   ],
   "source": [
    "#9.Write a program to find the second largest element in a list\n",
    "List1 = [12,45,24,68,53,67,98,76]\n",
    "List2 = sorted(List1, reverse = True)\n",
    "print(List2)\n",
    "second_largest = List2[1]\n",
    "print(\"Second largest number is \",second_largest)\n",
    "\n"
   ]
  },
  {
   "cell_type": "markdown",
   "id": "9c8e9275-5eb5-42fa-9dfc-2e9aa754d474",
   "metadata": {},
   "source": [
    "#### 10.Question"
   ]
  },
  {
   "cell_type": "code",
   "execution_count": 10,
   "id": "c6d34ba7-4ead-41ad-9840-36208a20bfe8",
   "metadata": {},
   "outputs": [
    {
     "name": "stdout",
     "output_type": "stream",
     "text": [
      "['silver', 'gold', 'platinum', 'lead', 'iron', 'aluminium']\n"
     ]
    }
   ],
   "source": [
    "'''10.This is a list of some metallic elements.\n",
    "metals = [ 'silver','gold', ... ]\n",
    "Make a new list that is almost identical to the metals list: the new\n",
    "contains the same items, in the same order, except that it does NOT\n",
    "contain the item 'copper'.\n",
    "    '''\n",
    "metals = [\"silver\",\"gold\",\"platinum\",\"copper\",\"lead\",\"iron\",\"aluminium\"]\n",
    "metals1 = []\n",
    "for n in metals:\n",
    "    if n != \"copper\":\n",
    "        metals1.append(n)\n",
    "\n",
    "print(metals1)"
   ]
  }
 ],
 "metadata": {
  "kernelspec": {
   "display_name": "Python 3 (ipykernel)",
   "language": "python",
   "name": "python3"
  },
  "language_info": {
   "codemirror_mode": {
    "name": "ipython",
    "version": 3
   },
   "file_extension": ".py",
   "mimetype": "text/x-python",
   "name": "python",
   "nbconvert_exporter": "python",
   "pygments_lexer": "ipython3",
   "version": "3.11.7"
  }
 },
 "nbformat": 4,
 "nbformat_minor": 5
}
