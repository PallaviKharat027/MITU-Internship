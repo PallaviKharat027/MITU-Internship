{
 "cells": [
  {
   "cell_type": "markdown",
   "id": "b8a902c0-25ea-45ff-9c60-dcb3e7bac303",
   "metadata": {},
   "source": [
    "# 11 June"
   ]
  },
  {
   "cell_type": "markdown",
   "id": "4aad1bbb-552b-4ffe-b180-7f2972fabdf6",
   "metadata": {},
   "source": [
    "## File handling"
   ]
  },
  {
   "cell_type": "code",
   "execution_count": 9,
   "id": "7b9da7d2-8945-46ee-b0d8-c5cb8058422d",
   "metadata": {},
   "outputs": [],
   "source": [
    "f=open('tree.txt','r')"
   ]
  },
  {
   "cell_type": "code",
   "execution_count": 10,
   "id": "d0999dd2-6b1b-4119-8798-e76ce117bf4c",
   "metadata": {},
   "outputs": [
    {
     "name": "stdout",
     "output_type": "stream",
     "text": [
      "tree.txt\n"
     ]
    }
   ],
   "source": [
    "print(f.name)"
   ]
  },
  {
   "cell_type": "code",
   "execution_count": 11,
   "id": "48fed11a-65d2-45ad-8e8f-d766212f3846",
   "metadata": {},
   "outputs": [
    {
     "name": "stdout",
     "output_type": "stream",
     "text": [
      "Trees are an essential resource for everyone. They provide habitat for various species, clean the air and produce oxygen. Besides, they give us shade in the summer, and their leaves can be used for numerous purposes, such as making perfumes, medicines, etc. Moreover, they help cool our atmosphere.\n",
      "\n",
      "\n"
     ]
    }
   ],
   "source": [
    "print(f.read())"
   ]
  },
  {
   "cell_type": "code",
   "execution_count": 5,
   "id": "051862a0-c80b-4155-8b3a-134b09fd10b8",
   "metadata": {},
   "outputs": [
    {
     "name": "stdout",
     "output_type": "stream",
     "text": [
      "r\n"
     ]
    }
   ],
   "source": [
    "print(f.mode)"
   ]
  },
  {
   "cell_type": "code",
   "execution_count": 13,
   "id": "b2e96071-1421-412d-9c17-21b51a0cb6db",
   "metadata": {},
   "outputs": [],
   "source": [
    "f.close()"
   ]
  },
  {
   "cell_type": "code",
   "execution_count": 14,
   "id": "e02e2a6e-a5d0-40e4-b8fd-39d09124dff4",
   "metadata": {},
   "outputs": [
    {
     "data": {
      "text/plain": [
       "True"
      ]
     },
     "execution_count": 14,
     "metadata": {},
     "output_type": "execute_result"
    }
   ],
   "source": [
    "f.closed"
   ]
  },
  {
   "cell_type": "code",
   "execution_count": 15,
   "id": "0ae7b416-6062-4350-9833-769d34b27f02",
   "metadata": {},
   "outputs": [],
   "source": [
    "# open with context manager\n",
    "\n",
    "with open('tree.txt','r') as f:\n",
    "    pass"
   ]
  },
  {
   "cell_type": "code",
   "execution_count": 16,
   "id": "4f1a9d40-4fa7-4dd4-8103-ef67b70c680b",
   "metadata": {},
   "outputs": [
    {
     "data": {
      "text/plain": [
       "True"
      ]
     },
     "execution_count": 16,
     "metadata": {},
     "output_type": "execute_result"
    }
   ],
   "source": [
    "f.closed"
   ]
  },
  {
   "cell_type": "code",
   "execution_count": 17,
   "id": "6141ce8d-d5c2-4349-851c-1cc74f5bc42d",
   "metadata": {},
   "outputs": [
    {
     "name": "stdout",
     "output_type": "stream",
     "text": [
      "Trees are an essential resource for everyone. They provide habitat for various species, clean the air and produce oxygen. Besides, they give us shade in the summer, and their leaves can be used for numerous purposes, such as making perfumes, medicines, etc. Moreover, they help cool our atmosphere.\n",
      "\n",
      "\n"
     ]
    }
   ],
   "source": [
    "with open('tree.txt','r') as f:\n",
    "    content=f.read()\n",
    "    print(content)"
   ]
  },
  {
   "cell_type": "code",
   "execution_count": 18,
   "id": "5b4e0484-97b8-4a29-9d1d-0474248655bc",
   "metadata": {},
   "outputs": [
    {
     "name": "stdout",
     "output_type": "stream",
     "text": [
      "['Trees are an essential resource for everyone. They provide habitat for various species, clean the air and produce oxygen. Besides, they give us shade in the summer, and their leaves can be used for numerous purposes, such as making perfumes, medicines, etc. Moreover, they help cool our atmosphere.\\n', '\\n']\n"
     ]
    }
   ],
   "source": [
    "with open('tree.txt','r') as f:\n",
    "    content=f.readlines()\n",
    "    print(content)"
   ]
  },
  {
   "cell_type": "code",
   "execution_count": 37,
   "id": "db13e7ef-0dae-4ce8-b9ca-8076ba466431",
   "metadata": {},
   "outputs": [
    {
     "name": "stdout",
     "output_type": "stream",
     "text": [
      "['My school is ten kilometers away from my home,\\n', 'and I go by the school bus every morning. \\n', 'I love to go to school.\\n', 'I learn so many new things at school every day. \\n', 'There are many different subjects I study at school.']\n"
     ]
    }
   ],
   "source": [
    "with open('school.txt','r') as f:\n",
    "    content=f.readlines()\n",
    "    print(content)"
   ]
  },
  {
   "cell_type": "code",
   "execution_count": 34,
   "id": "43fb6cd2-68a4-45e9-a807-3a9be17c9f6c",
   "metadata": {},
   "outputs": [
    {
     "name": "stdout",
     "output_type": "stream",
     "text": [
      "My school is ten kilometers away from my home,\n"
     ]
    }
   ],
   "source": [
    "with open('school.txt','r') as f:\n",
    "    content=f.readline()\n",
    "    print(content,end = '')"
   ]
  },
  {
   "cell_type": "code",
   "execution_count": 36,
   "id": "2686a834-3c9c-421d-92e2-c8b5c59a6599",
   "metadata": {},
   "outputs": [
    {
     "name": "stdout",
     "output_type": "stream",
     "text": [
      "My school is ten kilometers away from my home,\n",
      "and I go by the school bus every morning. \n",
      "\n"
     ]
    }
   ],
   "source": [
    "with open('school.txt','r') as f:\n",
    "    content=f.readline()\n",
    "    print(content , end= '')\n",
    "\n",
    "    content=f.readline()\n",
    "    print(content)"
   ]
  },
  {
   "cell_type": "code",
   "execution_count": 58,
   "id": "e5c5fb62-a3c4-416b-8537-83aa4ceab28d",
   "metadata": {},
   "outputs": [
    {
     "name": "stdout",
     "output_type": "stream",
     "text": [
      "My school is ten kilometers away from my home,\n",
      "\n",
      "and I go by the school bus every morning. \n",
      "\n",
      "I love to go to school.\n",
      "\n",
      "I learn so many new things at school every day. \n",
      "\n",
      "There are many different subjects I study at school.\n"
     ]
    }
   ],
   "source": [
    "with open('school.txt','r') as f:\n",
    "    for i in f: \n",
    "        print(i)"
   ]
  },
  {
   "cell_type": "markdown",
   "id": "eee25b9b-2478-47db-8f73-121cac769841",
   "metadata": {},
   "source": [
    "##### Read the 1 characters"
   ]
  },
  {
   "cell_type": "code",
   "execution_count": 60,
   "id": "524a6f8f-4d75-4e65-99b2-c573d8a6bac6",
   "metadata": {},
   "outputs": [
    {
     "name": "stdout",
     "output_type": "stream",
     "text": [
      "M\n"
     ]
    }
   ],
   "source": [
    "with open('school.txt','r') as f:\n",
    "    content=f.read(1)\n",
    "    print(content)"
   ]
  },
  {
   "cell_type": "markdown",
   "id": "3500a81c-ceec-48de-9367-b7414794a340",
   "metadata": {},
   "source": [
    "##### Use while loop to read entire file...5 characters at a time"
   ]
  },
  {
   "cell_type": "code",
   "execution_count": 69,
   "id": "8d1f88ca-b2c6-4329-84d1-8047c1ac4a81",
   "metadata": {},
   "outputs": [
    {
     "name": "stdout",
     "output_type": "stream",
     "text": [
      "My sc*hool *is te*n kil*omete*rs aw*ay fr*om my* home*,\n",
      "and* I go* by t*he sc*hool *bus e*very *morni*ng. \n",
      "*I lov*e to *go to* scho*ol.\n",
      "I* lear*n so *many *new t*hings* at s*chool* ever*y day*. \n",
      "Th*ere a*re ma*ny di*ffere*nt su*bject*s I s*tudy *at sc*hool.*"
     ]
    }
   ],
   "source": [
    "with open('school.txt','r') as f:\n",
    "    size = 5\n",
    "\n",
    "    content=f.read(size)\n",
    "    while len(content)>0:\n",
    "        print(content,end='*')\n",
    "        content = f.read(size)"
   ]
  },
  {
   "cell_type": "markdown",
   "id": "62ea274e-87f0-43eb-ad29-8d523e864cbe",
   "metadata": {},
   "source": [
    "#### In the 2nd phase start from the start again\n"
   ]
  },
  {
   "cell_type": "code",
   "execution_count": 71,
   "id": "68c38d3e-65be-4a85-8d60-4f77aaa7cf16",
   "metadata": {},
   "outputs": [
    {
     "name": "stdout",
     "output_type": "stream",
     "text": [
      "Trees\n",
      "Trees\n"
     ]
    }
   ],
   "source": [
    "\n",
    "with open('tree.txt','r') as f:\n",
    "    size=5\n",
    "    content=f.read(size)\n",
    "    print(content)\n",
    "\n",
    "    f.seek(0)\n",
    "\n",
    "    content=f.read(size)\n",
    "    print(content)"
   ]
  },
  {
   "cell_type": "markdown",
   "id": "6c4efc4f-43c3-43a4-a87a-2c78f6ffd2f3",
   "metadata": {},
   "source": [
    "## write"
   ]
  },
  {
   "cell_type": "code",
   "execution_count": 72,
   "id": "1de52500-dfb8-4861-8d1f-7818fab5e00e",
   "metadata": {},
   "outputs": [],
   "source": [
    "with open('write.txt','w') as w:\n",
    "    pass"
   ]
  },
  {
   "cell_type": "code",
   "execution_count": 74,
   "id": "35ff92d5-c5cd-420a-bc20-70a7696b5765",
   "metadata": {},
   "outputs": [],
   "source": [
    "with open('write.txt','w') as w:\n",
    "    w.write('My name is Pallavi')\n"
   ]
  },
  {
   "cell_type": "code",
   "execution_count": 75,
   "id": "33606048-d84b-4712-a0d2-f1465cb57ca3",
   "metadata": {},
   "outputs": [],
   "source": [
    "with open('write.txt','w') as w:\n",
    "    w.write('My name is Pallavi')\n",
    "    w.write('My name is Vaishnavi')"
   ]
  },
  {
   "cell_type": "code",
   "execution_count": 78,
   "id": "3dc9b64b-a2da-4123-9665-15accca788cd",
   "metadata": {},
   "outputs": [],
   "source": [
    "with open('write.txt','w') as w:\n",
    "    w.write('My name is Pallavi')\n",
    "\n",
    "    w.seek(0)\n",
    "    \n",
    "    w.write('HHHH')"
   ]
  },
  {
   "cell_type": "markdown",
   "id": "52b805f6-80a3-4ef3-8722-e2ecb9052bba",
   "metadata": {},
   "source": [
    "##### Create a new file which be the copy of tree.txt"
   ]
  },
  {
   "cell_type": "code",
   "execution_count": 3,
   "id": "13d5fca9-b85f-4ac8-9466-89cc7c627de0",
   "metadata": {},
   "outputs": [],
   "source": [
    "with open('tree.txt','r') as rf:\n",
    "    with open('tree_copy.txt','w') as w:\n",
    "         for line in rf:\n",
    "             w.write(line)\n",
    "         \n",
    "    \n",
    " "
   ]
  },
  {
   "cell_type": "markdown",
   "id": "632c3609-7fb3-43d9-a4a8-b802a7289170",
   "metadata": {},
   "source": [
    "##### Copy image"
   ]
  },
  {
   "cell_type": "code",
   "execution_count": null,
   "id": "f17f6afb-ac71-4345-944e-e921be4edfcb",
   "metadata": {},
   "outputs": [],
   "source": [
    "with open('C:\\Users\\Pallavi\\Desktop\\comp\\pexels-vojtech-okenka-127162-392018.jpg', 'rb') as f:\n",
    "    with open('wall_copy', 'wb') as w:\n",
    "        for line in f:\n",
    "            w.write(line)"
   ]
  },
  {
   "cell_type": "code",
   "execution_count": null,
   "id": "a591631f-cc9d-429d-9aa9-3e2d929a8115",
   "metadata": {},
   "outputs": [],
   "source": []
  }
 ],
 "metadata": {
  "kernelspec": {
   "display_name": "Python 3 (ipykernel)",
   "language": "python",
   "name": "python3"
  },
  "language_info": {
   "codemirror_mode": {
    "name": "ipython",
    "version": 3
   },
   "file_extension": ".py",
   "mimetype": "text/x-python",
   "name": "python",
   "nbconvert_exporter": "python",
   "pygments_lexer": "ipython3",
   "version": "3.11.7"
  }
 },
 "nbformat": 4,
 "nbformat_minor": 5
}
