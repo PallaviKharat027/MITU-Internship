{
 "cells": [
  {
   "cell_type": "markdown",
   "id": "67a5a896-d6e6-4422-866c-15ce7e9c0fbc",
   "metadata": {},
   "source": [
    "# 12 June"
   ]
  },
  {
   "cell_type": "markdown",
   "id": "cbcf4488-afda-44e4-8b15-a3b30725a62e",
   "metadata": {},
   "source": [
    "## Object Oriented Programming in Python"
   ]
  },
  {
   "cell_type": "code",
   "execution_count": 3,
   "id": "9f9b78f5-7d04-46c3-9179-ed3b223e3a3e",
   "metadata": {},
   "outputs": [],
   "source": [
    "class Employee():   # creating the class\n",
    "    pass"
   ]
  },
  {
   "cell_type": "code",
   "execution_count": 4,
   "id": "75a7d39a-1d6b-419d-9106-b1fa38352ab0",
   "metadata": {},
   "outputs": [],
   "source": [
    "emp1 = Employee()  # creating an instance of a class\n",
    "emp2 = Employee()"
   ]
  },
  {
   "cell_type": "code",
   "execution_count": 5,
   "id": "5ee92232-3a57-4015-a39e-89d0c4d6b9c7",
   "metadata": {},
   "outputs": [
    {
     "name": "stdout",
     "output_type": "stream",
     "text": [
      "<__main__.Employee object at 0x000002191992DC50>\n",
      "<__main__.Employee object at 0x000002191997C990>\n"
     ]
    }
   ],
   "source": [
    "print(emp1)\n",
    "print(emp2)"
   ]
  },
  {
   "cell_type": "markdown",
   "id": "df392bc7-697d-4fdb-92a4-447d3c36c111",
   "metadata": {},
   "source": [
    "#### Instance variable"
   ]
  },
  {
   "cell_type": "code",
   "execution_count": 6,
   "id": "869cc8d2-d404-4695-9f0e-294031ff2000",
   "metadata": {},
   "outputs": [],
   "source": [
    "emp1.first = 'Pallu'\n",
    "emp1.last = 'Kharat'\n",
    "emp1.salary = 60000\n",
    "\n",
    "emp2.first = 'Vaishu'\n",
    "emp2.last = 'Patil'\n",
    "emp2.salary = 70000"
   ]
  },
  {
   "cell_type": "code",
   "execution_count": 7,
   "id": "2f5f8882-85e2-4d8c-94c8-911db49acdc3",
   "metadata": {},
   "outputs": [
    {
     "name": "stdout",
     "output_type": "stream",
     "text": [
      "Pallu\n"
     ]
    }
   ],
   "source": [
    "print(emp1.first)"
   ]
  },
  {
   "cell_type": "code",
   "execution_count": 8,
   "id": "324ec16d-f689-417b-ae5f-45cf944e4c5b",
   "metadata": {},
   "outputs": [
    {
     "name": "stdout",
     "output_type": "stream",
     "text": [
      "Patil\n"
     ]
    }
   ],
   "source": [
    "print(emp2.last)"
   ]
  },
  {
   "cell_type": "code",
   "execution_count": 42,
   "id": "515e05d5-1c1a-4964-8e4f-81a3eacf73b7",
   "metadata": {},
   "outputs": [],
   "source": [
    "class Employee():\n",
    "\n",
    "    def __init__(self, first, last, salary):   # init method\n",
    "        self.first = first\n",
    "        self.last = last\n",
    "        self.__salary = salary     # private variable\n",
    "\n",
    "    def show(self):\n",
    "        print(self.__salary)\n",
    "    "
   ]
  },
  {
   "cell_type": "code",
   "execution_count": 34,
   "id": "4ecd0086-2dda-4436-90c4-02b7441d4717",
   "metadata": {},
   "outputs": [],
   "source": [
    "emp1 = Employee('harsh', 'kharat',80000)"
   ]
  },
  {
   "cell_type": "code",
   "execution_count": 35,
   "id": "23f918af-7c01-4633-ac5b-eae79fd33375",
   "metadata": {},
   "outputs": [
    {
     "name": "stdout",
     "output_type": "stream",
     "text": [
      "harsh\n"
     ]
    }
   ],
   "source": [
    "print(emp1.first)"
   ]
  },
  {
   "cell_type": "code",
   "execution_count": 36,
   "id": "2235d4be-ae5b-4c66-812f-6aa96133807a",
   "metadata": {},
   "outputs": [],
   "source": [
    "emp2 = Employee('sanu', 'sharma',40000)"
   ]
  },
  {
   "cell_type": "code",
   "execution_count": 37,
   "id": "3f9ae927-5e21-4a76-bbc7-a70e677998c1",
   "metadata": {},
   "outputs": [
    {
     "name": "stdout",
     "output_type": "stream",
     "text": [
      "harsh\n"
     ]
    }
   ],
   "source": [
    "emp1.show()"
   ]
  },
  {
   "cell_type": "code",
   "execution_count": 38,
   "id": "a4e482a1-1f72-47e6-989f-9f18b8597a2f",
   "metadata": {},
   "outputs": [
    {
     "name": "stdout",
     "output_type": "stream",
     "text": [
      "sanu\n"
     ]
    }
   ],
   "source": [
    "emp2.show()"
   ]
  },
  {
   "cell_type": "markdown",
   "id": "1e7b3b40-e8f8-4cd0-aa52-63699ddca2ef",
   "metadata": {},
   "source": [
    "## Encapsulation"
   ]
  },
  {
   "cell_type": "code",
   "execution_count": 15,
   "id": "47530a86-7da8-433d-82f4-7835e2186d97",
   "metadata": {},
   "outputs": [],
   "source": [
    "emp1 = Employee('harsh', 'kharat',80000)\n",
    "emp2 = Employee('sanu', 'sharma',40000)"
   ]
  },
  {
   "cell_type": "code",
   "execution_count": 21,
   "id": "9f9baf2b-a15d-4cf6-995a-cc8f06f64d0c",
   "metadata": {},
   "outputs": [
    {
     "name": "stdout",
     "output_type": "stream",
     "text": [
      "harsh\n"
     ]
    }
   ],
   "source": [
    "print(emp1.first)"
   ]
  },
  {
   "cell_type": "code",
   "execution_count": 22,
   "id": "dfe1bc76-8e4f-4992-8a20-abf9de9bb370",
   "metadata": {},
   "outputs": [
    {
     "ename": "AttributeError",
     "evalue": "'Employee' object has no attribute 'salary'",
     "output_type": "error",
     "traceback": [
      "\u001b[1;31m---------------------------------------------------------------------------\u001b[0m",
      "\u001b[1;31mAttributeError\u001b[0m                            Traceback (most recent call last)",
      "Cell \u001b[1;32mIn[22], line 1\u001b[0m\n\u001b[1;32m----> 1\u001b[0m \u001b[38;5;28mprint\u001b[39m(emp1\u001b[38;5;241m.\u001b[39msalary)\n",
      "\u001b[1;31mAttributeError\u001b[0m: 'Employee' object has no attribute 'salary'"
     ]
    }
   ],
   "source": [
    "print(emp1.salary) # we getting erroe because salary is private"
   ]
  },
  {
   "cell_type": "code",
   "execution_count": 31,
   "id": "238ab653-aa05-4540-9734-7a377c1b3cf1",
   "metadata": {},
   "outputs": [
    {
     "name": "stdout",
     "output_type": "stream",
     "text": [
      "80000\n"
     ]
    }
   ],
   "source": [
    "emp1.show()"
   ]
  },
  {
   "cell_type": "markdown",
   "id": "210d277c-c4e7-482d-8143-d1a7b4598d5e",
   "metadata": {},
   "source": [
    "## Inheritance"
   ]
  },
  {
   "cell_type": "code",
   "execution_count": 39,
   "id": "e3565139-8b3c-43e5-b539-3d370decee0f",
   "metadata": {},
   "outputs": [],
   "source": [
    "class Emp2(Employee):   # Emp2 => subclass, # Employeee => superclass\n",
    "    pass\n",
    "    "
   ]
  },
  {
   "cell_type": "code",
   "execution_count": 40,
   "id": "1ef8d826-9389-424f-b149-612bc3d89a3e",
   "metadata": {},
   "outputs": [],
   "source": [
    "emp3 = Emp2('neha', 'mane',20000) "
   ]
  },
  {
   "cell_type": "code",
   "execution_count": 43,
   "id": "893a768e-aea2-4bc2-90f4-145c5c5239a3",
   "metadata": {},
   "outputs": [
    {
     "name": "stdout",
     "output_type": "stream",
     "text": [
      "neha\n"
     ]
    }
   ],
   "source": [
    "emp3.show()"
   ]
  },
  {
   "cell_type": "code",
   "execution_count": 58,
   "id": "7e717d0a-fdb5-44dd-a53c-05a52f670e17",
   "metadata": {},
   "outputs": [],
   "source": [
    "''' Create a class called person \n",
    "attributes => name,age,city....(make use of default parameters also)\n",
    "craete a method which will show all the info of a person'''\n",
    "\n",
    "\n",
    "\n",
    "\n",
    "class person():\n",
    "        def __init__(self, name, age, city=):   # init method\n",
    "            self.name=name\n",
    "            self.age=age\n",
    "            self.city=city\n",
    "        def show(self):\n",
    "            print('name',self.name) \n",
    "            print('age',self.age)\n",
    "            print('city',self.city)\n",
    "\n",
    "    \n",
    "    "
   ]
  },
  {
   "cell_type": "code",
   "execution_count": 59,
   "id": "8ec68061-4bc1-45ea-84cb-f1ceec63ddc5",
   "metadata": {},
   "outputs": [],
   "source": [
    "p1=person('pallavi',19,'pune')"
   ]
  },
  {
   "cell_type": "code",
   "execution_count": 60,
   "id": "fa1aef77-45a6-4a96-9b7c-965f5c5e3bfa",
   "metadata": {},
   "outputs": [],
   "source": [
    "p2=person('vaishnavi',21,'pandharpur')"
   ]
  },
  {
   "cell_type": "code",
   "execution_count": 64,
   "id": "f8e236ff-bdd5-4d94-b33a-c18019a735cf",
   "metadata": {},
   "outputs": [
    {
     "name": "stdout",
     "output_type": "stream",
     "text": [
      "name pallavi\n",
      "age 19\n",
      "city pune\n"
     ]
    }
   ],
   "source": [
    "p1.show()"
   ]
  },
  {
   "cell_type": "code",
   "execution_count": 65,
   "id": "c450eea8-9568-454c-add8-cc44f88d4fad",
   "metadata": {},
   "outputs": [
    {
     "name": "stdout",
     "output_type": "stream",
     "text": [
      "name vaishnavi\n",
      "age 21\n",
      "city pandharpur\n"
     ]
    }
   ],
   "source": [
    "p2.show()"
   ]
  },
  {
   "cell_type": "code",
   "execution_count": null,
   "id": "a7c5343f-0a22-4b5d-9504-e2b9c752992d",
   "metadata": {},
   "outputs": [],
   "source": []
  }
 ],
 "metadata": {
  "kernelspec": {
   "display_name": "Python 3 (ipykernel)",
   "language": "python",
   "name": "python3"
  },
  "language_info": {
   "codemirror_mode": {
    "name": "ipython",
    "version": 3
   },
   "file_extension": ".py",
   "mimetype": "text/x-python",
   "name": "python",
   "nbconvert_exporter": "python",
   "pygments_lexer": "ipython3",
   "version": "3.11.7"
  }
 },
 "nbformat": 4,
 "nbformat_minor": 5
}
