{
 "cells": [
  {
   "cell_type": "markdown",
   "id": "3034c440-b3f4-4847-bf9d-74b21653762d",
   "metadata": {},
   "source": [
    "# 11 June"
   ]
  },
  {
   "cell_type": "markdown",
   "id": "d711e3c4-6935-4c0b-b1c8-95b99378063c",
   "metadata": {},
   "source": [
    "## Exception handling"
   ]
  },
  {
   "cell_type": "code",
   "execution_count": 1,
   "id": "f0ba2b54-5f13-4192-b902-739a322ddc52",
   "metadata": {},
   "outputs": [
    {
     "ename": "FileNotFoundError",
     "evalue": "[Errno 2] No such file or directory: 'all.txt'",
     "output_type": "error",
     "traceback": [
      "\u001b[1;31m---------------------------------------------------------------------------\u001b[0m",
      "\u001b[1;31mFileNotFoundError\u001b[0m                         Traceback (most recent call last)",
      "Cell \u001b[1;32mIn[1], line 1\u001b[0m\n\u001b[1;32m----> 1\u001b[0m f\u001b[38;5;241m=\u001b[39m \u001b[38;5;28mopen\u001b[39m(\u001b[38;5;124m'\u001b[39m\u001b[38;5;124mall.txt\u001b[39m\u001b[38;5;124m'\u001b[39m)\n",
      "File \u001b[1;32m~\\anaconda3\\Lib\\site-packages\\IPython\\core\\interactiveshell.py:310\u001b[0m, in \u001b[0;36m_modified_open\u001b[1;34m(file, *args, **kwargs)\u001b[0m\n\u001b[0;32m    303\u001b[0m \u001b[38;5;28;01mif\u001b[39;00m file \u001b[38;5;129;01min\u001b[39;00m {\u001b[38;5;241m0\u001b[39m, \u001b[38;5;241m1\u001b[39m, \u001b[38;5;241m2\u001b[39m}:\n\u001b[0;32m    304\u001b[0m     \u001b[38;5;28;01mraise\u001b[39;00m \u001b[38;5;167;01mValueError\u001b[39;00m(\n\u001b[0;32m    305\u001b[0m         \u001b[38;5;124mf\u001b[39m\u001b[38;5;124m\"\u001b[39m\u001b[38;5;124mIPython won\u001b[39m\u001b[38;5;124m'\u001b[39m\u001b[38;5;124mt let you open fd=\u001b[39m\u001b[38;5;132;01m{\u001b[39;00mfile\u001b[38;5;132;01m}\u001b[39;00m\u001b[38;5;124m by default \u001b[39m\u001b[38;5;124m\"\u001b[39m\n\u001b[0;32m    306\u001b[0m         \u001b[38;5;124m\"\u001b[39m\u001b[38;5;124mas it is likely to crash IPython. If you know what you are doing, \u001b[39m\u001b[38;5;124m\"\u001b[39m\n\u001b[0;32m    307\u001b[0m         \u001b[38;5;124m\"\u001b[39m\u001b[38;5;124myou can use builtins\u001b[39m\u001b[38;5;124m'\u001b[39m\u001b[38;5;124m open.\u001b[39m\u001b[38;5;124m\"\u001b[39m\n\u001b[0;32m    308\u001b[0m     )\n\u001b[1;32m--> 310\u001b[0m \u001b[38;5;28;01mreturn\u001b[39;00m io_open(file, \u001b[38;5;241m*\u001b[39margs, \u001b[38;5;241m*\u001b[39m\u001b[38;5;241m*\u001b[39mkwargs)\n",
      "\u001b[1;31mFileNotFoundError\u001b[0m: [Errno 2] No such file or directory: 'all.txt'"
     ]
    }
   ],
   "source": [
    "f= open('all.txt')"
   ]
  },
  {
   "cell_type": "code",
   "execution_count": 2,
   "id": "5697f683-508d-46a5-9c6e-8b2cadb05e65",
   "metadata": {},
   "outputs": [
    {
     "name": "stdout",
     "output_type": "stream",
     "text": [
      "file is not there\n"
     ]
    }
   ],
   "source": [
    "try:\n",
    "    f= open('all.txt')\n",
    "except Exception:\n",
    "    print('file is not there')\n",
    "    \n",
    "    "
   ]
  },
  {
   "cell_type": "code",
   "execution_count": 3,
   "id": "d82a5295-8a0f-4b4e-8369-f858659670d6",
   "metadata": {},
   "outputs": [
    {
     "name": "stdout",
     "output_type": "stream",
     "text": [
      "file is not there\n"
     ]
    }
   ],
   "source": [
    "try:\n",
    "    f= open('all.txt')\n",
    "    var=var1\n",
    "except Exception:\n",
    "    print('file is not there')\n",
    "    "
   ]
  },
  {
   "cell_type": "code",
   "execution_count": 4,
   "id": "166fb80f-59b6-47ed-99de-e978caa6a481",
   "metadata": {},
   "outputs": [
    {
     "name": "stdout",
     "output_type": "stream",
     "text": [
      "file is not there\n"
     ]
    }
   ],
   "source": [
    "try:\n",
    "    f= open('tree.txt')\n",
    "    var=var1\n",
    "except Exception:\n",
    "    print('file is not there')"
   ]
  },
  {
   "cell_type": "code",
   "execution_count": 6,
   "id": "fac81975-143c-4e2a-8686-1c533b874106",
   "metadata": {},
   "outputs": [
    {
     "ename": "NameError",
     "evalue": "name 'var1' is not defined",
     "output_type": "error",
     "traceback": [
      "\u001b[1;31m---------------------------------------------------------------------------\u001b[0m",
      "\u001b[1;31mNameError\u001b[0m                                 Traceback (most recent call last)",
      "Cell \u001b[1;32mIn[6], line 3\u001b[0m\n\u001b[0;32m      1\u001b[0m \u001b[38;5;28;01mtry\u001b[39;00m:\n\u001b[0;32m      2\u001b[0m     f\u001b[38;5;241m=\u001b[39m \u001b[38;5;28mopen\u001b[39m(\u001b[38;5;124m'\u001b[39m\u001b[38;5;124mtree.txt\u001b[39m\u001b[38;5;124m'\u001b[39m)\n\u001b[1;32m----> 3\u001b[0m     var\u001b[38;5;241m=\u001b[39mvar1\n\u001b[0;32m      4\u001b[0m \u001b[38;5;28;01mexcept\u001b[39;00m \u001b[38;5;167;01mFileNotFoundError\u001b[39;00m:\n\u001b[0;32m      5\u001b[0m     \u001b[38;5;28mprint\u001b[39m(\u001b[38;5;124m'\u001b[39m\u001b[38;5;124mfile is not there\u001b[39m\u001b[38;5;124m'\u001b[39m)\n",
      "\u001b[1;31mNameError\u001b[0m: name 'var1' is not defined"
     ]
    }
   ],
   "source": [
    "try:\n",
    "    f= open('tree.txt')\n",
    "    var=var1\n",
    "except FileNotFoundError:\n",
    "    print('file is not there')"
   ]
  },
  {
   "cell_type": "code",
   "execution_count": 8,
   "id": "eaa541f0-e3e7-4059-90d9-1eed2bfc5d93",
   "metadata": {},
   "outputs": [
    {
     "name": "stdout",
     "output_type": "stream",
     "text": [
      "Somethings went wrong\n"
     ]
    }
   ],
   "source": [
    "try:\n",
    "    f= open('tree.txt')\n",
    "    var=var1\n",
    "except FileNotFoundError:\n",
    "    print('file is not there')\n",
    "except NameError:\n",
    "    print('Somethings went wrong')"
   ]
  },
  {
   "cell_type": "code",
   "execution_count": 10,
   "id": "393e4904-bd12-4ce7-891f-af9864bffe6a",
   "metadata": {},
   "outputs": [
    {
     "name": "stdout",
     "output_type": "stream",
     "text": [
      "name 'var1' is not defined\n"
     ]
    }
   ],
   "source": [
    "try:\n",
    "    f= open('tree.txt')\n",
    "    var=var1\n",
    "except FileNotFoundError:\n",
    "    print('file is not there')\n",
    "except Exception as e:\n",
    "    print(e)"
   ]
  },
  {
   "cell_type": "code",
   "execution_count": 11,
   "id": "0638c9ab-df30-4894-a564-88b19ec6f8ba",
   "metadata": {},
   "outputs": [
    {
     "name": "stdout",
     "output_type": "stream",
     "text": [
      "My school is ten kilometers away from my home,\n",
      "and I go by the school bus every morning. \n",
      "I love to go to school.\n",
      "I learn so many new things at school every day. \n",
      "There are many different subjects I study at school.\n"
     ]
    }
   ],
   "source": [
    "try:\n",
    "    f= open('school.txt')\n",
    "except FileNotFoundError:\n",
    "    print('file is not there')\n",
    "else:       # will exeute if we not getting an error in try\n",
    "    print(f.read())\n",
    "    f.close()"
   ]
  },
  {
   "cell_type": "code",
   "execution_count": 12,
   "id": "360cb770-c498-4ed1-8f00-6892bceda5c3",
   "metadata": {},
   "outputs": [
    {
     "name": "stdout",
     "output_type": "stream",
     "text": [
      "file is not there\n",
      "finally\n"
     ]
    }
   ],
   "source": [
    "try:\n",
    "    f= open('school1.txt')\n",
    "except FileNotFoundError:\n",
    "    print('file is not there')\n",
    "else:       \n",
    "    print('ok')\n",
    "finally:\n",
    "    print('finally')"
   ]
  },
  {
   "cell_type": "code",
   "execution_count": 13,
   "id": "bd32a7dd-19cf-4157-9c45-c9d1d59e37ab",
   "metadata": {},
   "outputs": [
    {
     "name": "stdout",
     "output_type": "stream",
     "text": [
      "ok\n",
      "finally\n"
     ]
    }
   ],
   "source": [
    "try:\n",
    "    f= open('school.txt')\n",
    "except FileNotFoundError:\n",
    "    print('file is not there')\n",
    "else:       \n",
    "    print('ok')\n",
    "finally:\n",
    "    print('finally')"
   ]
  },
  {
   "cell_type": "code",
   "execution_count": null,
   "id": "86d219f8-3a28-4c57-9e90-b5ef372d5bb7",
   "metadata": {},
   "outputs": [],
   "source": []
  }
 ],
 "metadata": {
  "kernelspec": {
   "display_name": "Python 3 (ipykernel)",
   "language": "python",
   "name": "python3"
  },
  "language_info": {
   "codemirror_mode": {
    "name": "ipython",
    "version": 3
   },
   "file_extension": ".py",
   "mimetype": "text/x-python",
   "name": "python",
   "nbconvert_exporter": "python",
   "pygments_lexer": "ipython3",
   "version": "3.11.7"
  }
 },
 "nbformat": 4,
 "nbformat_minor": 5
}
