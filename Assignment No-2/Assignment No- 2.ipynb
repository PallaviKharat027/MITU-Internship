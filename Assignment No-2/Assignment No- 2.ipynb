{
 "cells": [
  {
   "cell_type": "markdown",
   "id": "aad9375a-0618-4e72-9a40-fb335ca06d30",
   "metadata": {},
   "source": [
    "# Assignment No- 2"
   ]
  },
  {
   "cell_type": "markdown",
   "id": "d78b7466-8214-4165-9bb2-d79fef19a885",
   "metadata": {},
   "source": [
    "#### Question 1"
   ]
  },
  {
   "cell_type": "code",
   "execution_count": null,
   "id": "978f5c8c-bed4-4276-8c0f-cbb8ee99d1f6",
   "metadata": {},
   "outputs": [],
   "source": [
    "1.Create a package named ‘cricket’ which will contain modules named\n",
    "batsman and bowler. Create following functions in respective modules.\n",
    "Import the package and call all these functions in your program\n",
    "batsman: findaverage(runs,outs), strikerate(runs,balls)\n",
    "bowler: findavg(runs,wickets), economyrate(overs, runs)"
   ]
  },
  {
   "cell_type": "code",
   "execution_count": 6,
   "id": "82b034b3-427b-404b-81a1-cdb8cd2c2c1e",
   "metadata": {},
   "outputs": [
    {
     "name": "stdout",
     "output_type": "stream",
     "text": [
      "BATSMAN\n",
      "batsman average is: 40.0\n",
      "batsman Strikerate is: 132.0\n",
      "BOWLER\n",
      "bowler Average is: 16.842105263157894\n",
      "bowler Economy Rate is: 6.666666666666667\n"
     ]
    }
   ],
   "source": [
    "from cricket import batsman as bt\n",
    "from cricket import bowler as bw\n",
    "\n",
    "print(\"BATSMAN\")\n",
    "\n",
    "runs = 10000;\n",
    "outs = 250;\n",
    "print('batsman average is:',bt.findaverage(runs,outs))\n",
    "runs = 264;\n",
    "balls = 200;\n",
    "print('batsman Strikerate is:',bt.strikerate(runs,balls))\n",
    "\n",
    "print(\"BOWLER\")\n",
    "\n",
    "runs = 320;\n",
    "wickets = 19;\n",
    "print('bowler Average is:',bw.findavg(runs,wickets))\n",
    "overs = 6;\n",
    "runs = 40;\n",
    "print('bowler Economy Rate is:',bw.economyrate(overs,runs))"
   ]
  },
  {
   "cell_type": "markdown",
   "id": "09ea74a9-6553-40d8-8e10-f0e11ff01b29",
   "metadata": {},
   "source": [
    "#### Question 2"
   ]
  },
  {
   "cell_type": "code",
   "execution_count": null,
   "id": "24fbb8ea-b977-433e-a5ea-964a273e9f11",
   "metadata": {},
   "outputs": [],
   "source": [
    "2.Write a Python function to find whether the number if prime or not.\n",
    "def isPrime(num)\n"
   ]
  },
  {
   "cell_type": "code",
   "execution_count": 38,
   "id": "340ecc33-692f-4e46-bb8e-5cb017a6d3c5",
   "metadata": {},
   "outputs": [
    {
     "name": "stdin",
     "output_type": "stream",
     "text": [
      "Enter number number: 70\n"
     ]
    },
    {
     "name": "stdout",
     "output_type": "stream",
     "text": [
      "70 is not a prime number\n"
     ]
    }
   ],
   "source": [
    "num = int(input(\"Enter number number:\"))\n",
    "def isPrime(num):\n",
    "\n",
    " if num > 1:\n",
    "    for i in range(2, (num//2)+1):\n",
    "      if (num % i) == 0:\n",
    "            print(num, \"is not a prime number\")\n",
    "            break\n",
    "      else:\n",
    "        print(num, \"is a prime number\")\n",
    " else:\n",
    "    print(num, \"is not a prime number\")\n",
    "isPrime(num)"
   ]
  },
  {
   "cell_type": "markdown",
   "id": "960c4755-eaf0-4900-b80a-8e2ab19b50b1",
   "metadata": {},
   "source": [
    "#### Question 3"
   ]
  },
  {
   "cell_type": "code",
   "execution_count": null,
   "id": "604f0bab-e03c-4ae1-9671-88d050e1e638",
   "metadata": {},
   "outputs": [],
   "source": [
    "3. Write a function is_palindrome(string) that takes a string as input and returns\n",
    "True if the string reads the same backward as forward (e.g., \"racecar\" is a palindrome)."
   ]
  },
  {
   "cell_type": "code",
   "execution_count": 7,
   "id": "bb489bff-7b1f-468b-ba01-a0b96debe736",
   "metadata": {},
   "outputs": [
    {
     "name": "stdin",
     "output_type": "stream",
     "text": [
      "Enter a string: PCP\n"
     ]
    },
    {
     "name": "stdout",
     "output_type": "stream",
     "text": [
      "True\n"
     ]
    }
   ],
   "source": [
    "string=input((\"Enter a string:\"))\n",
    "def ispalindrome(string):\n",
    "  if(string==string[::-1]):\n",
    "    print(True)\n",
    "  else:\n",
    "    print(False)\n",
    "\n",
    "ispalindrome(string)   "
   ]
  },
  {
   "cell_type": "markdown",
   "id": "ab16ad66-56a3-4413-9749-d6130f8339d0",
   "metadata": {},
   "source": [
    "#### Question 4"
   ]
  },
  {
   "cell_type": "code",
   "execution_count": null,
   "id": "9a2cdc54-0b0c-4605-8768-ae9276667a54",
   "metadata": {},
   "outputs": [],
   "source": [
    "4.Write a function reverse_list(data) that takes a list as input and returns a new list\n",
    "with the elements in reverse order (e.g., reverse_list([1, 2, 3]) returns [3, 2, 1])"
   ]
  },
  {
   "cell_type": "code",
   "execution_count": 39,
   "id": "5f41c2ca-1fe5-42f6-b903-bc75bccca0f2",
   "metadata": {},
   "outputs": [
    {
     "name": "stdin",
     "output_type": "stream",
     "text": [
      "Enter number number: 10\n",
      "Enter number number: 20\n",
      "Enter number number: 30\n",
      "Enter number number: 40\n",
      "Enter number number: 50\n"
     ]
    },
    {
     "name": "stdout",
     "output_type": "stream",
     "text": [
      "[50, 40, 30, 20, 10]\n"
     ]
    }
   ],
   "source": [
    "list=[]\n",
    "for i in range(5):\n",
    "  num = int(input(\"Enter number number:\"))\n",
    "  list.append(num)\n",
    "def reverse_list(data):\n",
    "    rev_list = data[::-1]\n",
    "    print(rev_list)\n",
    "reverse_list(list)   "
   ]
  },
  {
   "cell_type": "markdown",
   "id": "24127054-f042-40de-babd-75cf2aca4ede",
   "metadata": {},
   "source": [
    "#### Question 5"
   ]
  },
  {
   "cell_type": "code",
   "execution_count": null,
   "id": "cc84ebba-87be-4d47-b6da-7e180458ce53",
   "metadata": {},
   "outputs": [],
   "source": [
    "Write a function write_file(filename, content) that takes a filename and\n",
    "content as input and writes the content to the specified file."
   ]
  },
  {
   "cell_type": "code",
   "execution_count": 43,
   "id": "1e881cff-7198-418a-8105-126a2c91810b",
   "metadata": {},
   "outputs": [
    {
     "name": "stdin",
     "output_type": "stream",
     "text": [
      "Enter your content :-  tree\n"
     ]
    },
    {
     "name": "stdout",
     "output_type": "stream",
     "text": [
      "content is specified in file.\n"
     ]
    }
   ],
   "source": [
    "content = input(\"Enter content:\")\n",
    "def write_file(filename, content):\n",
    "    with open(filename,'w') as f:\n",
    "        f.write(content)\n",
    "        print('content is specified in file')\n",
    "    \n",
    "write_file('tree.txt',content)"
   ]
  },
  {
   "cell_type": "markdown",
   "id": "85d51e7d-2559-4480-9e7f-b09eca393bd5",
   "metadata": {},
   "source": [
    "#### Question 6"
   ]
  },
  {
   "cell_type": "code",
   "execution_count": null,
   "id": "26fca3ac-46b8-46b3-836b-c8a2823b38df",
   "metadata": {},
   "outputs": [],
   "source": [
    "6.Write a function copy_file(source_filename, destination_filename) that\n",
    "takes the source and destination filenames as input and copies the content of the source\n",
    "file to the destination file. Handle cases where the source file doesn't exist."
   ]
  },
  {
   "cell_type": "code",
   "execution_count": 48,
   "id": "4722b458-737b-477c-a3dd-1171b47897ad",
   "metadata": {},
   "outputs": [
    {
     "name": "stdin",
     "output_type": "stream",
     "text": [
      "Type the source file name: school.txt\n",
      "Type the destination file name: school1_copy_txt\n"
     ]
    },
    {
     "name": "stdout",
     "output_type": "stream",
     "text": [
      "Done!\n"
     ]
    }
   ],
   "source": [
    "def copyFile(sourceFileName, destFileName):\n",
    "    sourceFile = open(sourceFileName, \"rb\") \n",
    "    data = sourceFile.read()\n",
    "    sourceFile.close()\n",
    "\n",
    "    destFile = open(destFileName, \"wb\") \n",
    "    destFile.write(data)\n",
    "    destFile.close()\n",
    "\n",
    "    print(\"Done!\")\n",
    "\n",
    "src = input(\"Type the source file name:\")\n",
    "dst = input(\"Type the destination file name:\")\n",
    "\n",
    "copyFile(src, dst)"
   ]
  },
  {
   "cell_type": "markdown",
   "id": "34c47520-c35a-4996-8c3c-6c5e310432c6",
   "metadata": {},
   "source": [
    "#### Question 7"
   ]
  },
  {
   "cell_type": "code",
   "execution_count": null,
   "id": "76fddc90-0b36-4858-9199-ffe7fd7fb61a",
   "metadata": {},
   "outputs": [],
   "source": [
    "7.Implement a function to calculate the dot product of two NumPy arrays."
   ]
  },
  {
   "cell_type": "code",
   "execution_count": 52,
   "id": "bb0a5ae2-7926-4ab3-a8bc-0ec2c104777e",
   "metadata": {},
   "outputs": [
    {
     "name": "stdout",
     "output_type": "stream",
     "text": [
      "[[19 22]\n",
      " [43 50]]\n"
     ]
    }
   ],
   "source": [
    "import numpy as np\n",
    "x = np.array([[1,2],[3,4]])\n",
    "y = np.array([[5,6],[7,8]])\n",
    "\n",
    "dot= np.dot(x,y)\n",
    "print(dot)"
   ]
  },
  {
   "cell_type": "markdown",
   "id": "84898ff3-1b26-44ac-86bd-a39d81956a5b",
   "metadata": {},
   "source": [
    "#### Question 8"
   ]
  },
  {
   "cell_type": "code",
   "execution_count": null,
   "id": "9a6dd963-72e3-4a3f-be9a-a7e794c99046",
   "metadata": {},
   "outputs": [],
   "source": [
    "8.Implement a GUI with a radio button selection for choosing a favorite color (e.g., red,\n",
    "green, blue). Change the background color of the window based on the selected radio\n",
    "button."
   ]
  },
  {
   "cell_type": "code",
   "execution_count": 70,
   "id": "3a84daac-4f80-4a5a-9712-85580ff784ea",
   "metadata": {},
   "outputs": [],
   "source": [
    "import tkinter as tk\n",
    "from tkinter import messagebox\n",
    "\n",
    "app = tk.Tk()\n",
    "app.geometry(\"500x400\")\n",
    "\n",
    "def change_colour():\n",
    "    selected_color = color_var.get()\n",
    "    if selected_color == \"Green\":\n",
    "        app.configure(bg = \"green\")\n",
    "    elif selected_color == \"Yellow\":\n",
    "        app.configure(bg = \"yellow\")\n",
    "    elif selected_color == \"Blue\":\n",
    "        app.configure(bg = \"blue\")\n",
    "    elif selected_color == \"Red\":\n",
    "        app.configure(bg = \"red\")\n",
    " \n",
    "   \n",
    "        \n",
    "color_var = tk.StringVar(value=\"white\")\n",
    "\n",
    "\n",
    "r1 = tk.Radiobutton(app,text = \"Green\",command = change,value = \"Green\",variable = color_var,bg = \"green\",width = 10).pack(anchor = tk.CENTER,pady = 2)\n",
    "r2 = tk.Radiobutton(app,text = \"Yellow\",command = change,value = \"Yellow\",variable = color_var,bg = \"yellow\",width = 10).pack(anchor = tk.CENTER,pady = 2)\n",
    "r3 = tk.Radiobutton(app,text = \"Blue\",command = change,value = \"Blue\",variable = color_var,bg = \"blue\",width = 10).pack(anchor = tk.CENTER,pady = 2)\n",
    "r4 = tk.Radiobutton(app,text = \"Red\",command = change,value = \"Red\",variable = color_var,bg = \"red\",width = 10).pack(anchor = tk.CENTER,pady = 2)\n",
    "\n",
    "tk.mainloop()"
   ]
  },
  {
   "cell_type": "markdown",
   "id": "0b33fef3-4e84-445a-8ed1-20af16af9310",
   "metadata": {},
   "source": [
    "#### Question 9"
   ]
  },
  {
   "cell_type": "code",
   "execution_count": null,
   "id": "171c39e1-e1e4-46c6-b4e5-dad4306e680d",
   "metadata": {},
   "outputs": [],
   "source": [
    "9.Design a currency converter GUI. Allow users to enter an amount and select the\n",
    "currencies they want to convert between (e.g., USD, EUR). Display the converted\n",
    "amount in the selected currency"
   ]
  },
  {
   "cell_type": "code",
   "execution_count": 83,
   "id": "1b45549c-d2a8-4752-9271-bbc1954564ec",
   "metadata": {},
   "outputs": [],
   "source": [
    "\n",
    "import tkinter as tk\n",
    "from tkinter import messagebox\n",
    "\n",
    "top = tk.Tk()\n",
    "top.title(\"Currency Calculator\")\n",
    "top.geometry(\"700x700\")\n",
    "top.configure(bg = \"Pink\")\n",
    "inr = tk.IntVar()\n",
    "\n",
    "def usd():\n",
    "    a = inr.get()\n",
    "    u = a/83\n",
    "    messagebox.showinfo(\"converter\",\"USD = %i\" %u )\n",
    "def eur():\n",
    "    a = inr.get()\n",
    "    e = a/89\n",
    "    messagebox.showinfo(\"converter\",\"EUR = %i\" %e )\n",
    "def doller():\n",
    "    a = inr.get()\n",
    "    p = a/105\n",
    "    messagebox.showinfo(\"converter\",\"DOLLER = %i\" %p )\n",
    "def yen():\n",
    "    a = inr.get()\n",
    "    d = a/272\n",
    "    messagebox.showinfo(\"converter\",\"YEN = %i\" %d )\n",
    "l = tk.Label(top,text = \"Enter the amount\", bg = \"Orange\").place(x = 200, y = 200)\n",
    "e = tk.Entry(top, textvariable = inr,width = 30).place(x = 230, y = 230)\n",
    "b1 = tk.Button(top,text = \"USD\",width = 20,bg = \"Yellow\",command = usd).place(x = 250, y = 260)\n",
    "b2 = tk.Button(top,text = \"EUR\",width = 20,bg = \"Blue\",command = eur).place(x = 250, y = 290)\n",
    "b3 = tk.Button(top,text = \"DOLLER\",width = 20,bg = \"purple\",command = doller).place(x = 250, y = 320)\n",
    "b4 = tk.Button(top,text = \"YEN\",width = 20,bg = \"Red\",command = yen).place(x = 250, y = 350)\n",
    "\n",
    "top.mainloop()"
   ]
  },
  {
   "cell_type": "code",
   "execution_count": null,
   "id": "376a43da-76b3-44be-beb9-41b9950714fc",
   "metadata": {},
   "outputs": [],
   "source": []
  }
 ],
 "metadata": {
  "kernelspec": {
   "display_name": "Python 3 (ipykernel)",
   "language": "python",
   "name": "python3"
  },
  "language_info": {
   "codemirror_mode": {
    "name": "ipython",
    "version": 3
   },
   "file_extension": ".py",
   "mimetype": "text/x-python",
   "name": "python",
   "nbconvert_exporter": "python",
   "pygments_lexer": "ipython3",
   "version": "3.11.7"
  }
 },
 "nbformat": 4,
 "nbformat_minor": 5
}
