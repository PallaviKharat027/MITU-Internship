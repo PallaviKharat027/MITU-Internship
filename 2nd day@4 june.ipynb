{
 "cells": [
  {
   "cell_type": "markdown",
   "id": "c7041a55-6e9f-406a-9469-da01539c1dd4",
   "metadata": {},
   "source": [
    "# 2nd day...4 june"
   ]
  },
  {
   "cell_type": "code",
   "execution_count": 1,
   "id": "e8190e6c-d67c-481a-b90b-f6a8e7e7ac9b",
   "metadata": {},
   "outputs": [],
   "source": [
    "# decision making"
   ]
  },
  {
   "cell_type": "code",
   "execution_count": 3,
   "id": "2d542cf3-dd6a-4681-806f-1d296204db7e",
   "metadata": {},
   "outputs": [
    {
     "name": "stdin",
     "output_type": "stream",
     "text": [
      "enter the number 70\n"
     ]
    },
    {
     "name": "stdout",
     "output_type": "stream",
     "text": [
      "Ok\n"
     ]
    }
   ],
   "source": [
    "# check if a number is grater than 50\n",
    "\n",
    "num = int(input('enter the number'))\n",
    "if num > 50:\n",
    "  print('Ok')"
   ]
  },
  {
   "cell_type": "markdown",
   "id": "bc2d917e-0fb2-4064-ae76-29c738a065db",
   "metadata": {},
   "source": [
    "### check if a number is positive or negative"
   ]
  },
  {
   "cell_type": "code",
   "execution_count": 7,
   "id": "4475dc67-6613-477b-9cab-57bd0e8dd344",
   "metadata": {},
   "outputs": [
    {
     "name": "stdin",
     "output_type": "stream",
     "text": [
      "enter the numer 9\n"
     ]
    },
    {
     "name": "stdout",
     "output_type": "stream",
     "text": [
      "positive\n"
     ]
    }
   ],
   "source": [
    "num=int(input(\"enter the numer\"))\n",
    "\n",
    "if num > 0:\n",
    "    print('positive')\n",
    "else:\n",
    "    print('negative')"
   ]
  },
  {
   "cell_type": "code",
   "execution_count": 9,
   "id": "b6daa83d-c42f-4a47-ac3e-fa67342a7fc4",
   "metadata": {},
   "outputs": [
    {
     "name": "stdin",
     "output_type": "stream",
     "text": [
      "enter the number -5\n"
     ]
    },
    {
     "name": "stdout",
     "output_type": "stream",
     "text": [
      "negative\n"
     ]
    }
   ],
   "source": [
    "num=int(input('enter the number'))\n",
    "if num > 0:\n",
    "    print('positive')\n",
    "elif num==0:\n",
    "    print('zero')\n",
    "else:\n",
    "    print('negative')"
   ]
  },
  {
   "cell_type": "markdown",
   "id": "7ada1975-04b4-4bae-9712-ca089df8a1b8",
   "metadata": {},
   "source": [
    "### even or odd"
   ]
  },
  {
   "cell_type": "code",
   "execution_count": 12,
   "id": "ec2d77f3-6a49-4e32-a39b-5b24a483dfcf",
   "metadata": {},
   "outputs": [
    {
     "name": "stdin",
     "output_type": "stream",
     "text": [
      "enter the numer 5\n"
     ]
    },
    {
     "name": "stdout",
     "output_type": "stream",
     "text": [
      "odd number\n"
     ]
    }
   ],
   "source": [
    "num=int(input('enter the numer'))\n",
    "if num %2==0:\n",
    "    print('even number')\n",
    "else:\n",
    "    print('odd number')"
   ]
  },
  {
   "cell_type": "code",
   "execution_count": 23,
   "id": "76c0adad-bdd6-4ef7-9fa6-c4b03e56c06f",
   "metadata": {},
   "outputs": [
    {
     "data": {
      "text/plain": [
       "0"
      ]
     },
     "execution_count": 23,
     "metadata": {},
     "output_type": "execute_result"
    }
   ],
   "source": [
    "\n",
    "int(False)\n"
   ]
  },
  {
   "cell_type": "code",
   "execution_count": 24,
   "id": "4b8f92f7-36de-4b64-a4aa-bd78e871210a",
   "metadata": {},
   "outputs": [
    {
     "data": {
      "text/plain": [
       "1"
      ]
     },
     "execution_count": 24,
     "metadata": {},
     "output_type": "execute_result"
    }
   ],
   "source": [
    "\n",
    "int(True)"
   ]
  },
  {
   "cell_type": "code",
   "execution_count": 25,
   "id": "5e10bb3d-a777-4fe3-8f82-4d2f852aba1d",
   "metadata": {},
   "outputs": [
    {
     "data": {
      "text/plain": [
       "2"
      ]
     },
     "execution_count": 25,
     "metadata": {},
     "output_type": "execute_result"
    }
   ],
   "source": [
    " True + True + False"
   ]
  },
  {
   "cell_type": "code",
   "execution_count": 26,
   "id": "e4470822-a117-4eca-8266-80b6f0398ce2",
   "metadata": {},
   "outputs": [
    {
     "name": "stdout",
     "output_type": "stream",
     "text": [
      "ok\n"
     ]
    }
   ],
   "source": [
    "b=56\n",
    "if b:\n",
    "    print('ok')"
   ]
  },
  {
   "cell_type": "markdown",
   "id": "e96744b6-5b1b-49b2-884b-fbf6eee5a76e",
   "metadata": {},
   "source": [
    "### check if the number is in between 50 and 150"
   ]
  },
  {
   "cell_type": "code",
   "execution_count": 30,
   "id": "29fe8685-8df6-44c3-9ed1-8f3def94ed1c",
   "metadata": {},
   "outputs": [
    {
     "name": "stdin",
     "output_type": "stream",
     "text": [
      "enter the number 100\n"
     ]
    },
    {
     "name": "stdout",
     "output_type": "stream",
     "text": [
      "output is correct\n"
     ]
    }
   ],
   "source": [
    "num=int(input('enter the number'))\n",
    "if num < 150 and num > 50:\n",
    "    print('output is correct')\n",
    "else:\n",
    "    print('no is greater than 150')"
   ]
  },
  {
   "cell_type": "markdown",
   "id": "f246ffc8-5338-400a-98bc-ef5f8ef632f5",
   "metadata": {},
   "source": [
    "### read the purchase cost and selling cost? state profit or loss and how much???"
   ]
  },
  {
   "cell_type": "code",
   "execution_count": 33,
   "id": "9468dfe3-8eac-4a64-adba-c1d30ef335cc",
   "metadata": {},
   "outputs": [
    {
     "name": "stdin",
     "output_type": "stream",
     "text": [
      "enter the selling_cost 100\n",
      "enter the purchase_cost 50\n"
     ]
    },
    {
     "name": "stdout",
     "output_type": "stream",
     "text": [
      "profit: 50\n"
     ]
    }
   ],
   "source": [
    "selling_cost=int(input('enter the selling_cost'))\n",
    "purchase_cost=int(input('enter the purchase_cost'))\n",
    "\n",
    "if selling_cost > purchase_cost:\n",
    "    print('profit:',selling_cost-purchase_cost)\n",
    "else:\n",
    "    print('loss:',purchase_cost-selling_cost)"
   ]
  },
  {
   "cell_type": "markdown",
   "id": "3d54f3d3-bd55-4629-8c00-45866fe86ed7",
   "metadata": {},
   "source": [
    "### take a 3 number find largest of them?????not allowed 'and' , 'or'"
   ]
  },
  {
   "cell_type": "code",
   "execution_count": 53,
   "id": "3825bb36-7fad-41cb-a6c6-9d4f951489cf",
   "metadata": {},
   "outputs": [
    {
     "name": "stdin",
     "output_type": "stream",
     "text": [
      "enter the number1 10\n",
      "enter the number2 20\n",
      "enter the number3 30\n"
     ]
    },
    {
     "name": "stdout",
     "output_type": "stream",
     "text": [
      "num3 is largest\n"
     ]
    }
   ],
   "source": [
    "num1=int(input('enter the number1'))\n",
    "num2=int(input('enter the number2'))\n",
    "num3=int(input('enter the number3'))\n",
    "\n",
    "if num1 > num2:\n",
    "    if num1 > num3:\n",
    "        print(\"num1 is largest\")\n",
    "    else:\n",
    "        print(\"num3 is largest\")\n",
    "else:\n",
    "    if num2 > num3:\n",
    "        print(\"num2 is largest\")\n",
    "    else:\n",
    "        print(\"num3 is largest\")\n",
    "           \n",
    "        "
   ]
  },
  {
   "cell_type": "markdown",
   "id": "e9e7a1d3-e3d0-466a-8b64-80e9a87daaae",
   "metadata": {},
   "source": [
    "### leap year or not program"
   ]
  },
  {
   "cell_type": "code",
   "execution_count": 51,
   "id": "71500064-fc58-455e-8928-7d4b528e8ca7",
   "metadata": {},
   "outputs": [
    {
     "name": "stdin",
     "output_type": "stream",
     "text": [
      "enter the number 2000\n"
     ]
    },
    {
     "name": "stdout",
     "output_type": "stream",
     "text": [
      "leap centary year\n"
     ]
    }
   ],
   "source": [
    "year=int(input('enter the number'))\n",
    "if year % 4 == 0: # checking leap year\n",
    "    if year % 100 == 0: # cheching centary year\n",
    "        if year %  400 == 0:\n",
    "             print('leap centary year')\n",
    "        else:\n",
    "             print('not leap yenar but centary year')\n",
    "    else:\n",
    "        print('leap year')\n",
    "else:\n",
    "    print('not leap year')\n",
    "\n",
    "      "
   ]
  },
  {
   "cell_type": "code",
   "execution_count": 56,
   "id": "89079294-d4f8-417d-a556-2c8b75ae34d1",
   "metadata": {},
   "outputs": [
    {
     "name": "stdin",
     "output_type": "stream",
     "text": [
      "enter the marks 97\n"
     ]
    },
    {
     "name": "stdout",
     "output_type": "stream",
     "text": [
      "first class\n"
     ]
    }
   ],
   "source": [
    "'''>60 fc\n",
    ">50sc\n",
    ">40tc\n",
    "> 35 pass\n",
    "<=35 fail\n",
    "'''\n",
    "\n",
    "\n",
    "\n",
    "\n",
    "marks=int(input('enter the marks'))\n",
    "if marks > 60:\n",
    "    print('first class')\n",
    "elif marks > 50:\n",
    "    print('second class')\n",
    "elif marks > 40:\n",
    "    print('third class')\n",
    "elif marks > 35:\n",
    "    print('pass')\n",
    "else:\n",
    "    print('fail')\n"
   ]
  },
  {
   "cell_type": "code",
   "execution_count": 4,
   "id": "ad39c4f2-fb16-4ccf-a4fa-e797ca297a13",
   "metadata": {},
   "outputs": [
    {
     "name": "stdin",
     "output_type": "stream",
     "text": [
      "enter the number 10\n"
     ]
    },
    {
     "name": "stdout",
     "output_type": "stream",
     "text": [
      "Menu:\n",
      "1.square\n",
      "2.cube\n",
      "3.check positive or negative\n"
     ]
    },
    {
     "name": "stdin",
     "output_type": "stream",
     "text": [
      "enter the choice 1\n"
     ]
    },
    {
     "name": "stdout",
     "output_type": "stream",
     "text": [
      "square is 100\n"
     ]
    }
   ],
   "source": [
    "num=int(input('enter the number'))\n",
    "print('Menu:\\n1.square\\n2.cube\\n3.check positive or negative')\n",
    "choice=int(input('enter the choice'))\n",
    "\n",
    "if choice == 1:\n",
    "    print('square is',num*num)\n",
    "elif choice == 2:\n",
    "    print('cube is',num**3)\n",
    "elif choice == 3:\n",
    "    if num > 0:\n",
    "       print('positive')\n",
    "else:\n",
    "    print('negative')"
   ]
  },
  {
   "cell_type": "markdown",
   "id": "a479b927-152e-49ca-b1f3-38abf4625bfd",
   "metadata": {},
   "source": [
    "### read 2 number and performs add,sub,floor div???which one is graeter based on the choice"
   ]
  },
  {
   "cell_type": "code",
   "execution_count": 19,
   "id": "9d850b47-c4d9-497e-a806-9ec290c4de07",
   "metadata": {},
   "outputs": [
    {
     "name": "stdin",
     "output_type": "stream",
     "text": [
      "enter the first number 10\n",
      "enter the second number 20\n"
     ]
    },
    {
     "name": "stdout",
     "output_type": "stream",
     "text": [
      "Menu:\n",
      "1.add\n",
      "2.sub\n",
      "3.div\n"
     ]
    },
    {
     "name": "stdin",
     "output_type": "stream",
     "text": [
      "enter the choice 1\n"
     ]
    },
    {
     "name": "stdout",
     "output_type": "stream",
     "text": [
      "add is 30\n"
     ]
    }
   ],
   "source": [
    "num1=int(input('enter the first number'))\n",
    "num2=int(input('enter the second number'))\n",
    "\n",
    "print('Menu:\\n1.add\\n2.sub\\n3.div')\n",
    "choice=int(input('enter the choice'))\n",
    "\n",
    "if choice == 1:\n",
    "    print('add is',num1 + num2)\n",
    "elif choice == 2:\n",
    "    print('sub is',num1 - num2)\n",
    "elif choice == 3:\n",
    "    print('div is',num1 / num2)\n",
    "else:\n",
    "    print('wrong choice')\n",
    "\n"
   ]
  },
  {
   "cell_type": "code",
   "execution_count": null,
   "id": "023903ac-f5bb-4ec2-af45-0e4a8b2530a7",
   "metadata": {},
   "outputs": [],
   "source": []
  },
  {
   "cell_type": "code",
   "execution_count": null,
   "id": "2c3dc996-8902-434e-9e50-7b11b1609ba6",
   "metadata": {},
   "outputs": [],
   "source": []
  }
 ],
 "metadata": {
  "kernelspec": {
   "display_name": "Python 3 (ipykernel)",
   "language": "python",
   "name": "python3"
  },
  "language_info": {
   "codemirror_mode": {
    "name": "ipython",
    "version": 3
   },
   "file_extension": ".py",
   "mimetype": "text/x-python",
   "name": "python",
   "nbconvert_exporter": "python",
   "pygments_lexer": "ipython3",
   "version": "3.11.7"
  }
 },
 "nbformat": 4,
 "nbformat_minor": 5
}
