{
 "cells": [
  {
   "cell_type": "markdown",
   "id": "f77f818a-f79b-40af-ad70-6b45cabeacc2",
   "metadata": {},
   "source": [
    "# 3rd day...5 june"
   ]
  },
  {
   "cell_type": "markdown",
   "id": "618d3418-05a5-4aaf-b9a3-4f9df17fa9ac",
   "metadata": {},
   "source": [
    "### python loops\n",
    "# While loop....!"
   ]
  },
  {
   "cell_type": "code",
   "execution_count": 1,
   "id": "b1a1f689-7702-4a9f-b997-87b60b5f36e3",
   "metadata": {},
   "outputs": [
    {
     "name": "stdout",
     "output_type": "stream",
     "text": [
      "pallu\n",
      "pallu\n",
      "pallu\n",
      "pallu\n",
      "pallu\n"
     ]
    }
   ],
   "source": [
    "count= 1\n",
    "\n",
    "while count <= 5:\n",
    "    print('pallu')\n",
    "    count= count +1\n",
    "    "
   ]
  },
  {
   "cell_type": "markdown",
   "id": "aeef1c2e-1925-4c71-8ffd-c569f7dce6a4",
   "metadata": {},
   "source": [
    "### print no from 5 to 15"
   ]
  },
  {
   "cell_type": "code",
   "execution_count": 2,
   "id": "fda0a2ce-f101-432e-ba6f-873fd1950a24",
   "metadata": {},
   "outputs": [
    {
     "name": "stdout",
     "output_type": "stream",
     "text": [
      "5 \n",
      "\n",
      "6 \n",
      "\n",
      "7 \n",
      "\n",
      "8 \n",
      "\n",
      "9 \n",
      "\n",
      "10 \n",
      "\n",
      "11 \n",
      "\n",
      "12 \n",
      "\n",
      "13 \n",
      "\n",
      "14 \n",
      "\n",
      "15 \n",
      "\n"
     ]
    }
   ],
   "source": [
    "count=5\n",
    "\n",
    "while count <= 15:\n",
    "    print(count,'\\n')\n",
    "    count= count+1"
   ]
  },
  {
   "cell_type": "code",
   "execution_count": 3,
   "id": "7c913459-8986-4d4e-ae9b-6b7af1ad3b6d",
   "metadata": {},
   "outputs": [
    {
     "name": "stdout",
     "output_type": "stream",
     "text": [
      "16\n"
     ]
    }
   ],
   "source": [
    "print(count)"
   ]
  },
  {
   "cell_type": "markdown",
   "id": "933904f5-32bb-4c3d-ae34-bac06385a60d",
   "metadata": {},
   "source": [
    "### print the addition of no from 1 to 10"
   ]
  },
  {
   "cell_type": "code",
   "execution_count": 4,
   "id": "b630ca02-9d5b-4fca-80b0-f767b10369df",
   "metadata": {},
   "outputs": [
    {
     "name": "stdout",
     "output_type": "stream",
     "text": [
      "addition is 55\n"
     ]
    }
   ],
   "source": [
    "count=1\n",
    "add= 0\n",
    "while(count<=10):\n",
    "  add= add+count\n",
    "  count=count+1\n",
    "print('addition is',add)"
   ]
  },
  {
   "cell_type": "markdown",
   "id": "c6f14a96-50ab-4990-9175-832d7a1a49ab",
   "metadata": {},
   "source": [
    "### print the addition of all odd no from 1 to 20"
   ]
  },
  {
   "cell_type": "code",
   "execution_count": 5,
   "id": "b44a1b45-ce7e-447d-8baa-f2f59f47d4b6",
   "metadata": {},
   "outputs": [
    {
     "name": "stdout",
     "output_type": "stream",
     "text": [
      "addition is 100\n"
     ]
    }
   ],
   "source": [
    "count=1\n",
    "add= 0\n",
    "while(count<=20):\n",
    "  add= add+count\n",
    "  count=count+2\n",
    "print('addition is',add)"
   ]
  },
  {
   "cell_type": "markdown",
   "id": "bbd73e24-2b75-40e2-9c7d-a4a58b5ec02f",
   "metadata": {},
   "source": [
    "### factorail =>5...5*4*3*2*1 =120\n",
    "\n",
    "\n"
   ]
  },
  {
   "cell_type": "code",
   "execution_count": 6,
   "id": "bad9ec45-88ff-47e4-a85a-b1a33d8401e4",
   "metadata": {},
   "outputs": [
    {
     "name": "stdout",
     "output_type": "stream",
     "text": [
      "fcatorial is: 120\n"
     ]
    }
   ],
   "source": [
    "\n",
    "num = 1\n",
    "fact = 1\n",
    "while(num<=5):\n",
    "  fact=fact*num\n",
    "  num=num+1\n",
    "print('fcatorial is:',fact)\n"
   ]
  },
  {
   "cell_type": "code",
   "execution_count": null,
   "id": "3a3b7cc7-191c-4608-b51d-69b49823575f",
   "metadata": {},
   "outputs": [],
   "source": [
    "\n",
    "\n",
    "\n"
   ]
  },
  {
   "cell_type": "code",
   "execution_count": 7,
   "id": "c2519a09-d085-49d6-b194-2e3f4c0640f3",
   "metadata": {},
   "outputs": [],
   "source": [
    "# same program of factorial"
   ]
  },
  {
   "cell_type": "code",
   "execution_count": 8,
   "id": "21717790-e686-4e96-9e4a-b4585cfed0ab",
   "metadata": {},
   "outputs": [
    {
     "name": "stdin",
     "output_type": "stream",
     "text": [
      "enter the number 5\n"
     ]
    },
    {
     "name": "stdout",
     "output_type": "stream",
     "text": [
      "factorail is: 120\n"
     ]
    }
   ],
   "source": [
    "num=int(input('enter the number'))\n",
    "fact=1\n",
    "while num > 1:\n",
    "    fact=fact*num\n",
    "    num=num-1\n",
    "print('factorail is:',fact)    "
   ]
  },
  {
   "cell_type": "markdown",
   "id": "bcf0f2dd-a60f-4165-b8b0-5f62e77ca4c7",
   "metadata": {},
   "source": [
    "# infinite loop"
   ]
  },
  {
   "cell_type": "code",
   "execution_count": 9,
   "id": "40605736-033c-40b1-8276-637111c4611c",
   "metadata": {},
   "outputs": [
    {
     "data": {
      "text/plain": [
       "'num =2\\nwhile num>1:\\n    print(num)\\n    num=num+1'"
      ]
     },
     "execution_count": 9,
     "metadata": {},
     "output_type": "execute_result"
    }
   ],
   "source": [
    "'''num =2\n",
    "while num>1:\n",
    "    print(num)\n",
    "    num=num+1'''"
   ]
  },
  {
   "cell_type": "markdown",
   "id": "de82c3fa-2026-4d83-aad8-6321ca8f0742",
   "metadata": {},
   "source": [
    "### find the sum of didgit in a number??????12345 => 1+2+3+4+5=15"
   ]
  },
  {
   "cell_type": "code",
   "execution_count": 10,
   "id": "941970ac-be17-4de4-abfa-ef4836fe83c9",
   "metadata": {},
   "outputs": [
    {
     "name": "stdin",
     "output_type": "stream",
     "text": [
      "enter the number 12345\n"
     ]
    },
    {
     "name": "stdout",
     "output_type": "stream",
     "text": [
      "addition of digits is: 15\n"
     ]
    }
   ],
   "source": [
    "num=int(input('enter the number'))\n",
    "add=0\n",
    "\n",
    "while num > 0:\n",
    "    rem = num % 10  # 5\n",
    "    add=add+rem\n",
    "    num = num//10    #1234\n",
    "print('addition of digits is:',add)\n"
   ]
  },
  {
   "cell_type": "markdown",
   "id": "0c4ba6c2-3d3a-43e4-8720-6c30027995f0",
   "metadata": {},
   "source": [
    "# For loop.....!"
   ]
  },
  {
   "cell_type": "code",
   "execution_count": 11,
   "id": "d5528600-5301-466f-9c3f-f9e18c7738ed",
   "metadata": {},
   "outputs": [
    {
     "name": "stdout",
     "output_type": "stream",
     "text": [
      "10\n",
      "20\n",
      "30\n",
      "40\n",
      "50\n",
      "pallu\n"
     ]
    }
   ],
   "source": [
    "for n in 10,20,30,40,50,'pallu':   # n is a variable\n",
    " print(n)"
   ]
  },
  {
   "cell_type": "code",
   "execution_count": 12,
   "id": "c54cb75d-584b-4d88-83e9-0bc88b9822c4",
   "metadata": {},
   "outputs": [
    {
     "name": "stdout",
     "output_type": "stream",
     "text": [
      "6.0\n",
      "11.5\n",
      "12.0\n",
      "12.5\n",
      "10.0\n"
     ]
    }
   ],
   "source": [
    "for n in 12,23,24,25,20:\n",
    "    \n",
    "    print(n/2)"
   ]
  },
  {
   "cell_type": "markdown",
   "id": "86212eaf-86de-46d7-9e4b-8d69b8032349",
   "metadata": {},
   "source": [
    "# range function"
   ]
  },
  {
   "cell_type": "code",
   "execution_count": 13,
   "id": "7e04b68d-3b70-4733-b35c-cc2599c96119",
   "metadata": {},
   "outputs": [
    {
     "data": {
      "text/plain": [
       "[0, 1, 2, 3, 4]"
      ]
     },
     "execution_count": 13,
     "metadata": {},
     "output_type": "execute_result"
    }
   ],
   "source": [
    "list(range(5))"
   ]
  },
  {
   "cell_type": "code",
   "execution_count": 14,
   "id": "ae0cc51b-6b61-481c-8610-6bc5efe666d7",
   "metadata": {},
   "outputs": [
    {
     "data": {
      "text/plain": [
       "[5, 6, 7, 8, 9, 10, 11, 12, 13, 14, 15, 16, 17, 18, 19]"
      ]
     },
     "execution_count": 14,
     "metadata": {},
     "output_type": "execute_result"
    }
   ],
   "source": [
    "list(range(5,20))"
   ]
  },
  {
   "cell_type": "code",
   "execution_count": 15,
   "id": "b842ea06-9394-459a-9d21-607acbe9723d",
   "metadata": {},
   "outputs": [
    {
     "data": {
      "text/plain": [
       "[5, 7, 9, 11, 13, 15, 17, 19]"
      ]
     },
     "execution_count": 15,
     "metadata": {},
     "output_type": "execute_result"
    }
   ],
   "source": [
    "list(range(5,20,2))"
   ]
  },
  {
   "cell_type": "markdown",
   "id": "aa761510-6287-4f59-987e-e0530b2d1c04",
   "metadata": {},
   "source": [
    "# range(start,end+1,step)"
   ]
  },
  {
   "cell_type": "code",
   "execution_count": 16,
   "id": "ead89701-5541-41d6-bf44-f2bc96495c08",
   "metadata": {},
   "outputs": [
    {
     "name": "stdout",
     "output_type": "stream",
     "text": [
      "1\n",
      "2\n",
      "3\n",
      "4\n",
      "5\n",
      "6\n",
      "7\n",
      "8\n",
      "9\n",
      "10\n"
     ]
    }
   ],
   "source": [
    "for n in range(1,11):\n",
    " print(n)\n",
    "               "
   ]
  },
  {
   "cell_type": "markdown",
   "id": "1623f1c5-741f-43f0-a25c-a810665a4d3a",
   "metadata": {},
   "source": [
    "### addition of odd number from 1 to 20"
   ]
  },
  {
   "cell_type": "code",
   "execution_count": 17,
   "id": "57e2f5d2-39a7-465a-aa03-078979cd2b8f",
   "metadata": {},
   "outputs": [
    {
     "name": "stdout",
     "output_type": "stream",
     "text": [
      "addition 100\n"
     ]
    }
   ],
   "source": [
    "add = 0\n",
    "for n in range(1,21,2):\n",
    "     add= add + n\n",
    "print('addition',add)"
   ]
  },
  {
   "cell_type": "markdown",
   "id": "530c0648-6e1a-4351-9bbe-92b9e39e226c",
   "metadata": {},
   "source": [
    "### print your name 10 times"
   ]
  },
  {
   "cell_type": "code",
   "execution_count": 18,
   "id": "02222f07-3643-4e23-b4b9-c99dc13f5e86",
   "metadata": {},
   "outputs": [
    {
     "name": "stdout",
     "output_type": "stream",
     "text": [
      "pallu\n",
      "pallu\n",
      "pallu\n",
      "pallu\n",
      "pallu\n",
      "pallu\n",
      "pallu\n",
      "pallu\n",
      "pallu\n",
      "pallu\n"
     ]
    }
   ],
   "source": [
    "for n in range(10):\n",
    "  print('pallu')"
   ]
  },
  {
   "cell_type": "code",
   "execution_count": 19,
   "id": "51c6f066-95a1-4527-8b31-35781ac65be8",
   "metadata": {},
   "outputs": [
    {
     "name": "stdout",
     "output_type": "stream",
     "text": [
      "P\n",
      "a\n",
      "l\n",
      "l\n",
      "u\n"
     ]
    }
   ],
   "source": [
    "for n in 'Pallu':\n",
    "    print(n)"
   ]
  },
  {
   "cell_type": "code",
   "execution_count": 20,
   "id": "99552742-7fc9-4d65-bf9f-8d561c4a8458",
   "metadata": {},
   "outputs": [
    {
     "name": "stdout",
     "output_type": "stream",
     "text": [
      "pallu\n",
      "vaishu\n"
     ]
    }
   ],
   "source": [
    "for n in 'pallu','vaishu':\n",
    "    print(n)"
   ]
  },
  {
   "cell_type": "code",
   "execution_count": 21,
   "id": "418e5e09-313b-434e-bd4b-5af976c6dc25",
   "metadata": {},
   "outputs": [
    {
     "name": "stdout",
     "output_type": "stream",
     "text": [
      "pallupallupallu\n",
      "vaishuvaishuvaishu\n"
     ]
    }
   ],
   "source": [
    "for n in 'pallu','vaishu':\n",
    "    print(n*3)"
   ]
  },
  {
   "cell_type": "code",
   "execution_count": 22,
   "id": "c69001f1-f03f-4789-aeef-f445d0f1a5f6",
   "metadata": {},
   "outputs": [
    {
     "name": "stdout",
     "output_type": "stream",
     "text": [
      "23\n",
      "12\n",
      "54\n",
      "53\n",
      "loop ended\n"
     ]
    }
   ],
   "source": [
    "l= [23,12,54,53]\n",
    "for n in l:\n",
    "    print(n)\n",
    "else:\n",
    "    print('loop ended')"
   ]
  },
  {
   "cell_type": "markdown",
   "id": "6a9d3b14-81ae-43f9-b2e8-00b7001f38ab",
   "metadata": {},
   "source": [
    "### find factorial of a number........take user input"
   ]
  },
  {
   "cell_type": "code",
   "execution_count": 23,
   "id": "73668453-c1fc-4f58-ad1b-2ef8a1de4f59",
   "metadata": {},
   "outputs": [
    {
     "name": "stdin",
     "output_type": "stream",
     "text": [
      "enter the number 5\n"
     ]
    },
    {
     "name": "stdout",
     "output_type": "stream",
     "text": [
      "factorial is: 120\n"
     ]
    }
   ],
   "source": [
    "num=int(input('enter the number'))\n",
    "fact=1\n",
    "for num in range(1,num+1):\n",
    " fact=fact*num\n",
    "print('factorial is:',fact)"
   ]
  },
  {
   "cell_type": "markdown",
   "id": "c0167c7a-3af7-403a-a8c4-f120b10ba277",
   "metadata": {},
   "source": [
    "# Break statement"
   ]
  },
  {
   "cell_type": "code",
   "execution_count": 24,
   "id": "9af19e60-7030-4136-8386-006cb59cea74",
   "metadata": {},
   "outputs": [
    {
     "name": "stdout",
     "output_type": "stream",
     "text": [
      "1\n",
      "2\n",
      "3\n",
      "4\n"
     ]
    }
   ],
   "source": [
    "for n in range(1,10):\n",
    "    if n==5:\n",
    "      break\n",
    "    print(n)\n",
    "    "
   ]
  },
  {
   "cell_type": "code",
   "execution_count": 43,
   "id": "5d6bcef4-4d7e-46fa-9505-f650d3bd17b3",
   "metadata": {},
   "outputs": [],
   "source": [
    "for i in range(1,13):\n",
    "    if i % 2 == 0:\n",
    "        continue\n",
    "        print(i)"
   ]
  },
  {
   "cell_type": "code",
   "execution_count": 44,
   "id": "46a09d5e-10d9-4096-8f28-4ca543fbdf06",
   "metadata": {},
   "outputs": [],
   "source": [
    "num = 5\n",
    "if num > 1:\n",
    "    pass"
   ]
  },
  {
   "cell_type": "code",
   "execution_count": 28,
   "id": "e78448dd-6406-4636-aa60-2f9bbb14ea7d",
   "metadata": {},
   "outputs": [],
   "source": [
    "'''\n",
    "*\n",
    "**\n",
    "***\n",
    "''';"
   ]
  },
  {
   "cell_type": "code",
   "execution_count": 42,
   "id": "b0dc638e-4e8e-4fb6-98c2-f6373316b810",
   "metadata": {},
   "outputs": [
    {
     "name": "stdout",
     "output_type": "stream",
     "text": [
      "* \n",
      "* * \n",
      "* * * \n"
     ]
    }
   ],
   "source": [
    "row=3\n",
    "\n",
    "for i in range(1,row+1):\n",
    "    for j in range(i):\n",
    "         print('*',end=' ')\n",
    "    print()\n",
    "        "
   ]
  },
  {
   "cell_type": "code",
   "execution_count": null,
   "id": "20f36657-69c1-4cae-ab3a-b895f4ebd786",
   "metadata": {},
   "outputs": [],
   "source": []
  }
 ],
 "metadata": {
  "kernelspec": {
   "display_name": "Python 3 (ipykernel)",
   "language": "python",
   "name": "python3"
  },
  "language_info": {
   "codemirror_mode": {
    "name": "ipython",
    "version": 3
   },
   "file_extension": ".py",
   "mimetype": "text/x-python",
   "name": "python",
   "nbconvert_exporter": "python",
   "pygments_lexer": "ipython3",
   "version": "3.11.7"
  }
 },
 "nbformat": 4,
 "nbformat_minor": 5
}
