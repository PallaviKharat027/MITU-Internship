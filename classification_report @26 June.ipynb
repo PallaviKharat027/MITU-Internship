{
 "cells": [
  {
   "cell_type": "markdown",
   "id": "ce0d0b0e-9090-4429-8cfc-25a1ef034ae5",
   "metadata": {},
   "source": [
    "# 26 June"
   ]
  },
  {
   "cell_type": "markdown",
   "id": "d0617fd9-f653-4c78-bd03-f8f1e07a5584",
   "metadata": {},
   "source": [
    "## Classification Report"
   ]
  },
  {
   "cell_type": "code",
   "execution_count": 1,
   "id": "8f8860aa-db97-4ef2-8d64-2e16e7e72d03",
   "metadata": {},
   "outputs": [],
   "source": [
    "import pandas as pd"
   ]
  },
  {
   "cell_type": "code",
   "execution_count": 3,
   "id": "7c0b2a5b-acff-4472-9b62-c888c4583efc",
   "metadata": {},
   "outputs": [],
   "source": [
    "actual =    ['c' , 'c'  , 'nc'  , 'c'  ,  'nc' , 'nc' ,  'c'  ,  'nc' , 'nc']\n",
    "predicted = ['c' , 'nc' , 'nc'  , 'c'  ,   'c' , 'nc' ,  'nc' ,  'c'  , 'nc']"
   ]
  },
  {
   "cell_type": "markdown",
   "id": "de1c899e-ed4c-42ef-998b-3132b1a8caf4",
   "metadata": {},
   "source": [
    "## For cat"
   ]
  },
  {
   "cell_type": "code",
   "execution_count": 1,
   "id": "2160a3fd-b5dc-4731-af7a-982eb75c2a7c",
   "metadata": {},
   "outputs": [],
   "source": [
    "tp = 2  # pred cat actual cat"
   ]
  },
  {
   "cell_type": "code",
   "execution_count": 3,
   "id": "0d955e21-53fe-4050-a011-98d49e8012f6",
   "metadata": {},
   "outputs": [],
   "source": [
    "fp = 2  # pred cat actual not cat"
   ]
  },
  {
   "cell_type": "code",
   "execution_count": 4,
   "id": "41d2d032-81e8-4055-a2d2-02cc45c9e1f7",
   "metadata": {},
   "outputs": [],
   "source": [
    "fn = 2  # pred not cat actual"
   ]
  },
  {
   "cell_type": "code",
   "execution_count": 5,
   "id": "0877961e-fa48-4a12-810b-ea4b3b32df47",
   "metadata": {},
   "outputs": [],
   "source": [
    "tn = 3  # pred not cat actual not cat"
   ]
  },
  {
   "cell_type": "markdown",
   "id": "becad6e0-49b8-40a6-9f29-9540526a9008",
   "metadata": {},
   "source": [
    "## Precision"
   ]
  },
  {
   "cell_type": "code",
   "execution_count": 7,
   "id": "ed67cd14-1c3d-4e96-b69f-700a9993a089",
   "metadata": {},
   "outputs": [
    {
     "data": {
      "text/plain": [
       "0.5"
      ]
     },
     "execution_count": 7,
     "metadata": {},
     "output_type": "execute_result"
    }
   ],
   "source": [
    "precision = 2 / 4\n",
    "precision"
   ]
  },
  {
   "cell_type": "markdown",
   "id": "4a73950d-d833-428e-a96b-c68522e4ae6a",
   "metadata": {},
   "source": [
    "## Recall"
   ]
  },
  {
   "cell_type": "code",
   "execution_count": 8,
   "id": "1fc1941d-f6fc-4ec1-9e22-b06123696f20",
   "metadata": {},
   "outputs": [
    {
     "data": {
      "text/plain": [
       "0.5"
      ]
     },
     "execution_count": 8,
     "metadata": {},
     "output_type": "execute_result"
    }
   ],
   "source": [
    "recall = 2 / 4\n",
    "recall"
   ]
  },
  {
   "cell_type": "code",
   "execution_count": 9,
   "id": "989a04af-e2b2-4235-a071-86f8d95a37ef",
   "metadata": {},
   "outputs": [
    {
     "data": {
      "text/plain": [
       "0.5"
      ]
     },
     "execution_count": 9,
     "metadata": {},
     "output_type": "execute_result"
    }
   ],
   "source": [
    "# f1 - score\n",
    "\n",
    "# harmonic mean between precision and reacll\n",
    "\n",
    "(2 * precision * recall) / (precision + recall)"
   ]
  },
  {
   "cell_type": "code",
   "execution_count": null,
   "id": "7c5bb2dd-49c0-4eb5-90c7-8c325b4f92c3",
   "metadata": {},
   "outputs": [],
   "source": []
  }
 ],
 "metadata": {
  "kernelspec": {
   "display_name": "Python 3 (ipykernel)",
   "language": "python",
   "name": "python3"
  },
  "language_info": {
   "codemirror_mode": {
    "name": "ipython",
    "version": 3
   },
   "file_extension": ".py",
   "mimetype": "text/x-python",
   "name": "python",
   "nbconvert_exporter": "python",
   "pygments_lexer": "ipython3",
   "version": "3.11.7"
  }
 },
 "nbformat": 4,
 "nbformat_minor": 5
}
