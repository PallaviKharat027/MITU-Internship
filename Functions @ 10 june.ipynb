{
 "cells": [
  {
   "cell_type": "markdown",
   "id": "fc7e2732-311b-4cff-9041-a30acbba6d3f",
   "metadata": {},
   "source": [
    "# 10 June"
   ]
  },
  {
   "cell_type": "markdown",
   "id": "a6344022-a3af-4663-a228-d1a0a25149cd",
   "metadata": {},
   "source": [
    "## Function.."
   ]
  },
  {
   "cell_type": "code",
   "execution_count": 1,
   "id": "71700f44-882e-402e-bf9b-cdaba0978920",
   "metadata": {},
   "outputs": [],
   "source": [
    "def show():        # function defination\n",
    "    print('hello')\n",
    "    print('ok')\n",
    "    print('goodbye')"
   ]
  },
  {
   "cell_type": "code",
   "execution_count": 2,
   "id": "cdb59939-056d-4c45-a74f-7630199c1d65",
   "metadata": {},
   "outputs": [
    {
     "name": "stdout",
     "output_type": "stream",
     "text": [
      "hello\n",
      "ok\n",
      "goodbye\n",
      "hello\n",
      "ok\n",
      "goodbye\n",
      "hello\n",
      "ok\n",
      "goodbye\n"
     ]
    }
   ],
   "source": [
    "show()\n",
    "show()\n",
    "show()"
   ]
  },
  {
   "cell_type": "markdown",
   "id": "b0963af1-0ac7-41b3-8cc6-f770e29b1b83",
   "metadata": {},
   "source": [
    "#### Parameterized function"
   ]
  },
  {
   "cell_type": "code",
   "execution_count": 3,
   "id": "040654f6-3459-48c8-bea8-3a3decda1d39",
   "metadata": {},
   "outputs": [],
   "source": [
    "def square(n):\n",
    "    result=n*n\n",
    "    print('square is',result)"
   ]
  },
  {
   "cell_type": "code",
   "execution_count": 4,
   "id": "1b07ec18-66f1-4d93-9dd0-4f7022158733",
   "metadata": {},
   "outputs": [
    {
     "name": "stdout",
     "output_type": "stream",
     "text": [
      "square is 25\n"
     ]
    }
   ],
   "source": [
    "square(5)"
   ]
  },
  {
   "cell_type": "code",
   "execution_count": 5,
   "id": "bbf34ac2-3ab3-4bf6-8101-884fbb4e03b1",
   "metadata": {},
   "outputs": [
    {
     "name": "stdin",
     "output_type": "stream",
     "text": [
      "Enetr the number 5\n"
     ]
    },
    {
     "name": "stdout",
     "output_type": "stream",
     "text": [
      "square is 25\n"
     ]
    }
   ],
   "source": [
    "num=int(input('Enetr the number'))\n",
    "square(num)"
   ]
  },
  {
   "cell_type": "markdown",
   "id": "727acc60-2d14-4aba-97bc-f3f961f9be64",
   "metadata": {},
   "source": [
    "#### Multi-paramterized function"
   ]
  },
  {
   "cell_type": "code",
   "execution_count": 7,
   "id": "a274c7e8-4990-4a51-a78b-57d407071cb4",
   "metadata": {},
   "outputs": [],
   "source": [
    "def largest(a,b):\n",
    "    if a > b:\n",
    "        print(a,'is greater')\n",
    "    elif a==b:\n",
    "        print('equal')\n",
    "    else:\n",
    "        print(b,'is greater')\n",
    "        "
   ]
  },
  {
   "cell_type": "code",
   "execution_count": 8,
   "id": "026e91ba-38d9-4c45-b6d1-91bd7c07d817",
   "metadata": {},
   "outputs": [
    {
     "name": "stdout",
     "output_type": "stream",
     "text": [
      "20 is greater\n"
     ]
    }
   ],
   "source": [
    "largest(10,20)"
   ]
  },
  {
   "cell_type": "markdown",
   "id": "0886a154-7894-4f72-ac58-2e769f7d04c8",
   "metadata": {},
   "source": [
    "##### Write a function which will print a string n number of times"
   ]
  },
  {
   "cell_type": "code",
   "execution_count": 12,
   "id": "405813e4-2c10-44fb-84be-5c48fbdc5506",
   "metadata": {},
   "outputs": [],
   "source": [
    "def dis(name,n):\n",
    "    for i in range(n):\n",
    "        print(name)\n",
    "   \n",
    "    "
   ]
  },
  {
   "cell_type": "code",
   "execution_count": 13,
   "id": "8f8c74d8-abf2-43a5-9577-30c66827caf1",
   "metadata": {},
   "outputs": [
    {
     "name": "stdout",
     "output_type": "stream",
     "text": [
      "pune\n",
      "pune\n",
      "pune\n",
      "pune\n",
      "pune\n",
      "pune\n",
      "pune\n"
     ]
    }
   ],
   "source": [
    "dis('pune',7)"
   ]
  },
  {
   "cell_type": "markdown",
   "id": "ad05693a-495b-4097-9032-a9b8d9bdda70",
   "metadata": {},
   "source": [
    "##### Function for factorial"
   ]
  },
  {
   "cell_type": "code",
   "execution_count": 23,
   "id": "6e724e0e-4dc3-49ad-bed8-758c42af0313",
   "metadata": {},
   "outputs": [],
   "source": [
    "def facto(n):\n",
    "    fact=1\n",
    "    for i in range(1,n+1):\n",
    "        fact=fact*i\n",
    "    print('factorial:',fact)"
   ]
  },
  {
   "cell_type": "code",
   "execution_count": 24,
   "id": "1b1f1e6a-1ad4-4510-92c3-e68e07d6809c",
   "metadata": {},
   "outputs": [
    {
     "name": "stdout",
     "output_type": "stream",
     "text": [
      "factorial: 120\n"
     ]
    }
   ],
   "source": [
    "facto(5)"
   ]
  },
  {
   "cell_type": "markdown",
   "id": "cbb37788-8369-4573-8b30-1fe49316e8b7",
   "metadata": {},
   "source": [
    "### function returing values"
   ]
  },
  {
   "cell_type": "code",
   "execution_count": 25,
   "id": "e7f0f386-2972-41ba-b6e4-2983ef1c1ca9",
   "metadata": {},
   "outputs": [],
   "source": [
    "def square(n):\n",
    "    result=n*n\n",
    "    return result"
   ]
  },
  {
   "cell_type": "code",
   "execution_count": 27,
   "id": "35716fad-4094-4030-a71b-f77e032d6bd6",
   "metadata": {},
   "outputs": [
    {
     "data": {
      "text/plain": [
       "25"
      ]
     },
     "execution_count": 27,
     "metadata": {},
     "output_type": "execute_result"
    }
   ],
   "source": [
    "square(5)\n"
   ]
  },
  {
   "cell_type": "markdown",
   "id": "5808321d-335d-4b3b-bf83-ef61fa9a523c",
   "metadata": {},
   "source": [
    "##### difference between return and print"
   ]
  },
  {
   "cell_type": "code",
   "execution_count": 29,
   "id": "e2c90c35-f90a-4cec-aa00-a9ec1ccf416a",
   "metadata": {},
   "outputs": [
    {
     "name": "stdout",
     "output_type": "stream",
     "text": [
      "15\n",
      "None\n",
      "15\n",
      "result None\n"
     ]
    }
   ],
   "source": [
    "def add(a,b):\n",
    "    result=a+b\n",
    "    print(result)\n",
    "\n",
    "print(add(5,10))\n",
    "\n",
    "op=add(5,10)\n",
    "\n",
    "print('result',op)"
   ]
  },
  {
   "cell_type": "code",
   "execution_count": 30,
   "id": "143b2fbc-4f37-4c66-a677-168cc7768d02",
   "metadata": {},
   "outputs": [
    {
     "name": "stdout",
     "output_type": "stream",
     "text": [
      "15\n",
      "result 15\n"
     ]
    }
   ],
   "source": [
    "def add(a,b):\n",
    "    result=a+b\n",
    "    return result\n",
    "\n",
    "print(add(5,10))\n",
    "\n",
    "op=add(5,10)\n",
    "\n",
    "print('result',op)"
   ]
  },
  {
   "cell_type": "code",
   "execution_count": 31,
   "id": "b4239353-03c9-4058-8988-1237133d81e1",
   "metadata": {},
   "outputs": [],
   "source": [
    "def largest(a,b):\n",
    "    if a > b:\n",
    "        return a\n",
    "    elif a==b:\n",
    "       return'Equal'\n",
    "    else:\n",
    "       return b"
   ]
  },
  {
   "cell_type": "code",
   "execution_count": 33,
   "id": "c3b37f76-a8e2-407f-8f56-e15f0c7b8074",
   "metadata": {},
   "outputs": [
    {
     "data": {
      "text/plain": [
       "'Equal'"
      ]
     },
     "execution_count": 33,
     "metadata": {},
     "output_type": "execute_result"
    }
   ],
   "source": [
    "largest(10,10)"
   ]
  },
  {
   "cell_type": "code",
   "execution_count": 34,
   "id": "378b0df3-6b1c-4ee3-9d49-a413b45d3819",
   "metadata": {},
   "outputs": [],
   "source": [
    "# perm and comb\n",
    "# ncr = n! / r!(n-r)!"
   ]
  },
  {
   "cell_type": "code",
   "execution_count": null,
   "id": "b7fba8ca-71cc-4a0c-950d-922a3b1b0109",
   "metadata": {},
   "outputs": [],
   "source": [
    "def facto(n):\n",
    "    fact=1\n",
    "    for i in range(1,n+1):\n",
    "        fact=fact*i\n",
    "    return fact"
   ]
  },
  {
   "cell_type": "code",
   "execution_count": 43,
   "id": "39d65bee-4846-44df-9072-216e8e54f54d",
   "metadata": {},
   "outputs": [
    {
     "name": "stdin",
     "output_type": "stream",
     "text": [
      "Total: 10\n",
      "combinations of: 3\n"
     ]
    },
    {
     "name": "stdout",
     "output_type": "stream",
     "text": [
      "factorial: 3628800\n",
      "factorial: 6\n",
      "factorial: 5040\n"
     ]
    },
    {
     "ename": "TypeError",
     "evalue": "unsupported operand type(s) for *: 'NoneType' and 'NoneType'",
     "output_type": "error",
     "traceback": [
      "\u001b[1;31m---------------------------------------------------------------------------\u001b[0m",
      "\u001b[1;31mTypeError\u001b[0m                                 Traceback (most recent call last)",
      "Cell \u001b[1;32mIn[43], line 5\u001b[0m\n\u001b[0;32m      1\u001b[0m n\u001b[38;5;241m=\u001b[39m\u001b[38;5;28mint\u001b[39m(\u001b[38;5;28minput\u001b[39m(\u001b[38;5;124m'\u001b[39m\u001b[38;5;124mTotal:\u001b[39m\u001b[38;5;124m'\u001b[39m))\n\u001b[0;32m      2\u001b[0m r\u001b[38;5;241m=\u001b[39m\u001b[38;5;28mint\u001b[39m(\u001b[38;5;28minput\u001b[39m(\u001b[38;5;124m'\u001b[39m\u001b[38;5;124mcombinations of:\u001b[39m\u001b[38;5;124m'\u001b[39m))\n\u001b[1;32m----> 5\u001b[0m ncr\u001b[38;5;241m=\u001b[39m facto(n) \u001b[38;5;241m/\u001b[39m (facto(r)\u001b[38;5;241m*\u001b[39mfacto(n\u001b[38;5;241m-\u001b[39mr))\n\u001b[0;32m      6\u001b[0m \u001b[38;5;28mprint\u001b[39m(ncr)\n",
      "\u001b[1;31mTypeError\u001b[0m: unsupported operand type(s) for *: 'NoneType' and 'NoneType'"
     ]
    }
   ],
   "source": [
    "n=int(input('Total:'))\n",
    "r=int(input('combinations of:'))\n",
    "\n",
    "\n",
    "ncr= facto(n) / (facto(r)*facto(n-r))\n",
    "print(ncr)\n",
    "\n"
   ]
  },
  {
   "cell_type": "code",
   "execution_count": 39,
   "id": "a28074a6-8db3-4c15-97df-9b2b17e5d5a8",
   "metadata": {},
   "outputs": [],
   "source": [
    "def cal(n):\n",
    "    sq=n*n\n",
    "    cu=n** 3\n",
    "    return sq,cu"
   ]
  },
  {
   "cell_type": "code",
   "execution_count": 40,
   "id": "9a819334-c50e-420c-99c7-f49fb8fcfcd8",
   "metadata": {},
   "outputs": [
    {
     "data": {
      "text/plain": [
       "(25, 125)"
      ]
     },
     "execution_count": 40,
     "metadata": {},
     "output_type": "execute_result"
    }
   ],
   "source": [
    "cal(5)"
   ]
  },
  {
   "cell_type": "code",
   "execution_count": 41,
   "id": "8dfeec19-e892-415a-aefa-ac7a5270410d",
   "metadata": {},
   "outputs": [
    {
     "name": "stdin",
     "output_type": "stream",
     "text": [
      "Enter the number 5\n"
     ]
    },
    {
     "name": "stdout",
     "output_type": "stream",
     "text": [
      "square 25\n",
      "cube 125\n"
     ]
    }
   ],
   "source": [
    "n=int(input('Enter the number'))\n",
    "x,y=cal(n)\n",
    "print('square',x)\n",
    "print('cube',y)"
   ]
  },
  {
   "cell_type": "markdown",
   "id": "5e39fb43-620b-4b4d-95a0-76ca5f9cc56d",
   "metadata": {},
   "source": [
    "#### Default parameter"
   ]
  },
  {
   "cell_type": "code",
   "execution_count": 1,
   "id": "f22b858a-48d4-4f46-a30f-3a688a7b46f9",
   "metadata": {},
   "outputs": [],
   "source": [
    "def add3(a=5, b=7, c=8):\n",
    "    result=a+b+c\n",
    "    return result\n"
   ]
  },
  {
   "cell_type": "code",
   "execution_count": 2,
   "id": "20d882a6-daa9-4873-9565-41b66cecb831",
   "metadata": {},
   "outputs": [
    {
     "data": {
      "text/plain": [
       "20"
      ]
     },
     "execution_count": 2,
     "metadata": {},
     "output_type": "execute_result"
    }
   ],
   "source": [
    "add3()"
   ]
  },
  {
   "cell_type": "code",
   "execution_count": 3,
   "id": "e9a17fd8-d476-4b5d-93b9-04fb32c3f0ac",
   "metadata": {},
   "outputs": [
    {
     "data": {
      "text/plain": [
       "25"
      ]
     },
     "execution_count": 3,
     "metadata": {},
     "output_type": "execute_result"
    }
   ],
   "source": [
    "add3(10)"
   ]
  },
  {
   "cell_type": "code",
   "execution_count": 4,
   "id": "9717f6c2-7d5f-4dd5-affd-716b9b95d8d3",
   "metadata": {},
   "outputs": [
    {
     "data": {
      "text/plain": [
       "28"
      ]
     },
     "execution_count": 4,
     "metadata": {},
     "output_type": "execute_result"
    }
   ],
   "source": [
    "add3(10,10)"
   ]
  },
  {
   "cell_type": "code",
   "execution_count": 5,
   "id": "f2f8f21d-115a-488b-a465-01cb41ba86b5",
   "metadata": {},
   "outputs": [
    {
     "data": {
      "text/plain": [
       "37"
      ]
     },
     "execution_count": 5,
     "metadata": {},
     "output_type": "execute_result"
    }
   ],
   "source": [
    "add3(a=10,c=20)"
   ]
  },
  {
   "cell_type": "code",
   "execution_count": 6,
   "id": "4e54d4d8-10af-4b94-ba89-2ebb372112d6",
   "metadata": {},
   "outputs": [],
   "source": [
    "def add3(a, b=7, c=8):\n",
    "    result=a+b+c\n",
    "    return result"
   ]
  },
  {
   "cell_type": "code",
   "execution_count": 7,
   "id": "1d0161da-208e-4911-ac0a-1dd0cbea6530",
   "metadata": {},
   "outputs": [
    {
     "data": {
      "text/plain": [
       "25"
      ]
     },
     "execution_count": 7,
     "metadata": {},
     "output_type": "execute_result"
    }
   ],
   "source": [
    "add3(10)"
   ]
  },
  {
   "cell_type": "markdown",
   "id": "1675565b-e6a4-4704-956c-0712717297da",
   "metadata": {},
   "source": [
    "##### dynamic or variable length parameter"
   ]
  },
  {
   "cell_type": "code",
   "execution_count": 11,
   "id": "f541a219-95b7-4326-afbc-54a2a2cf7d7f",
   "metadata": {},
   "outputs": [],
   "source": [
    "\n",
    "\n",
    "def in1(*args):\n",
    "    for i in args:\n",
    "        print(i)"
   ]
  },
  {
   "cell_type": "code",
   "execution_count": 12,
   "id": "16949fc2-f5a6-4665-9813-5e7bf8c8832d",
   "metadata": {},
   "outputs": [
    {
     "name": "stdout",
     "output_type": "stream",
     "text": [
      "1\n",
      "2\n",
      "3\n",
      "4\n",
      "5\n",
      "6\n",
      "7\n"
     ]
    }
   ],
   "source": [
    "in1(1,2,3,4,5,6,7,)"
   ]
  },
  {
   "cell_type": "markdown",
   "id": "ad93027f-37e8-4662-b942-aa46b0fccea5",
   "metadata": {},
   "source": [
    "##### Lamba function"
   ]
  },
  {
   "cell_type": "code",
   "execution_count": 13,
   "id": "3bf7440a-97d7-4a80-96f3-eeb775b89468",
   "metadata": {},
   "outputs": [],
   "source": [
    "square = lambda x: x*x\n"
   ]
  },
  {
   "cell_type": "code",
   "execution_count": 14,
   "id": "70406905-7a25-4fcf-8954-8682dee7a5c5",
   "metadata": {},
   "outputs": [
    {
     "data": {
      "text/plain": [
       "25"
      ]
     },
     "execution_count": 14,
     "metadata": {},
     "output_type": "execute_result"
    }
   ],
   "source": [
    "square(5)"
   ]
  },
  {
   "cell_type": "code",
   "execution_count": 15,
   "id": "37395278-80d0-4f12-be82-3b4c2bde0dbe",
   "metadata": {},
   "outputs": [],
   "source": [
    "addition = lambda a,b:a+b"
   ]
  },
  {
   "cell_type": "code",
   "execution_count": 16,
   "id": "0bd2bc9e-153e-4105-820a-c5035b819e42",
   "metadata": {},
   "outputs": [
    {
     "data": {
      "text/plain": [
       "15"
      ]
     },
     "execution_count": 16,
     "metadata": {},
     "output_type": "execute_result"
    }
   ],
   "source": [
    "addition(5,10)"
   ]
  },
  {
   "cell_type": "markdown",
   "id": "a293e2c0-5e80-49f9-9ca8-a12823ebc061",
   "metadata": {},
   "source": [
    "##### Filter"
   ]
  },
  {
   "cell_type": "code",
   "execution_count": 31,
   "id": "f40a9948-cab6-49ed-b757-ac4a350cf7ca",
   "metadata": {},
   "outputs": [],
   "source": [
    "num=[23,45,76,13,57,21,43]"
   ]
  },
  {
   "cell_type": "code",
   "execution_count": 32,
   "id": "36c05d65-9153-45a0-9c6a-290ab7fa97ac",
   "metadata": {},
   "outputs": [],
   "source": [
    "new = filter(lambda x:x>40,num)"
   ]
  },
  {
   "cell_type": "code",
   "execution_count": 33,
   "id": "7c92b9e1-1154-401c-bf08-865a4dd433b0",
   "metadata": {},
   "outputs": [
    {
     "data": {
      "text/plain": [
       "[45, 76, 57, 43]"
      ]
     },
     "execution_count": 33,
     "metadata": {},
     "output_type": "execute_result"
    }
   ],
   "source": [
    "list(new)"
   ]
  },
  {
   "cell_type": "markdown",
   "id": "e107a24e-19a5-4b11-a03f-b42d4e378415",
   "metadata": {},
   "source": [
    "##### Map"
   ]
  },
  {
   "cell_type": "code",
   "execution_count": 35,
   "id": "0141c6a8-2165-4753-b00c-ab7c6b7b29ba",
   "metadata": {},
   "outputs": [],
   "source": [
    "new = map(lambda x:x/2,num)"
   ]
  },
  {
   "cell_type": "code",
   "execution_count": 36,
   "id": "3de7164c-99dd-4ebc-90f1-50f0ac17183d",
   "metadata": {},
   "outputs": [
    {
     "data": {
      "text/plain": [
       "[11.5, 22.5, 38.0, 6.5, 28.5, 10.5, 21.5]"
      ]
     },
     "execution_count": 36,
     "metadata": {},
     "output_type": "execute_result"
    }
   ],
   "source": [
    "list(new)"
   ]
  },
  {
   "cell_type": "code",
   "execution_count": 29,
   "id": "e98e75f3-fe3b-4882-8e75-ece6a9f90f56",
   "metadata": {},
   "outputs": [],
   "source": [
    "new = map(lambda x:x>40,num)"
   ]
  },
  {
   "cell_type": "code",
   "execution_count": 30,
   "id": "1ac9196e-b14f-4b14-9fb8-c3531d6d4ccc",
   "metadata": {},
   "outputs": [
    {
     "name": "stdout",
     "output_type": "stream",
     "text": [
      "[False, True, True, False, True, False]\n"
     ]
    }
   ],
   "source": [
    "print(list(new))"
   ]
  },
  {
   "cell_type": "markdown",
   "id": "e5260f6e-a9ce-48a2-bec8-14d92753a6ed",
   "metadata": {},
   "source": [
    "# Modules"
   ]
  },
  {
   "cell_type": "code",
   "execution_count": 37,
   "id": "a1108357-5f2e-4a4e-b966-8c2ecc498650",
   "metadata": {},
   "outputs": [],
   "source": [
    "import math"
   ]
  },
  {
   "cell_type": "code",
   "execution_count": 38,
   "id": "25d2f61f-4468-4b63-9d77-b86008b45ee4",
   "metadata": {},
   "outputs": [
    {
     "name": "stdout",
     "output_type": "stream",
     "text": [
      "Help on built-in module math:\n",
      "\n",
      "NAME\n",
      "    math\n",
      "\n",
      "DESCRIPTION\n",
      "    This module provides access to the mathematical functions\n",
      "    defined by the C standard.\n",
      "\n",
      "FUNCTIONS\n",
      "    acos(x, /)\n",
      "        Return the arc cosine (measured in radians) of x.\n",
      "        \n",
      "        The result is between 0 and pi.\n",
      "    \n",
      "    acosh(x, /)\n",
      "        Return the inverse hyperbolic cosine of x.\n",
      "    \n",
      "    asin(x, /)\n",
      "        Return the arc sine (measured in radians) of x.\n",
      "        \n",
      "        The result is between -pi/2 and pi/2.\n",
      "    \n",
      "    asinh(x, /)\n",
      "        Return the inverse hyperbolic sine of x.\n",
      "    \n",
      "    atan(x, /)\n",
      "        Return the arc tangent (measured in radians) of x.\n",
      "        \n",
      "        The result is between -pi/2 and pi/2.\n",
      "    \n",
      "    atan2(y, x, /)\n",
      "        Return the arc tangent (measured in radians) of y/x.\n",
      "        \n",
      "        Unlike atan(y/x), the signs of both x and y are considered.\n",
      "    \n",
      "    atanh(x, /)\n",
      "        Return the inverse hyperbolic tangent of x.\n",
      "    \n",
      "    cbrt(x, /)\n",
      "        Return the cube root of x.\n",
      "    \n",
      "    ceil(x, /)\n",
      "        Return the ceiling of x as an Integral.\n",
      "        \n",
      "        This is the smallest integer >= x.\n",
      "    \n",
      "    comb(n, k, /)\n",
      "        Number of ways to choose k items from n items without repetition and without order.\n",
      "        \n",
      "        Evaluates to n! / (k! * (n - k)!) when k <= n and evaluates\n",
      "        to zero when k > n.\n",
      "        \n",
      "        Also called the binomial coefficient because it is equivalent\n",
      "        to the coefficient of k-th term in polynomial expansion of the\n",
      "        expression (1 + x)**n.\n",
      "        \n",
      "        Raises TypeError if either of the arguments are not integers.\n",
      "        Raises ValueError if either of the arguments are negative.\n",
      "    \n",
      "    copysign(x, y, /)\n",
      "        Return a float with the magnitude (absolute value) of x but the sign of y.\n",
      "        \n",
      "        On platforms that support signed zeros, copysign(1.0, -0.0)\n",
      "        returns -1.0.\n",
      "    \n",
      "    cos(x, /)\n",
      "        Return the cosine of x (measured in radians).\n",
      "    \n",
      "    cosh(x, /)\n",
      "        Return the hyperbolic cosine of x.\n",
      "    \n",
      "    degrees(x, /)\n",
      "        Convert angle x from radians to degrees.\n",
      "    \n",
      "    dist(p, q, /)\n",
      "        Return the Euclidean distance between two points p and q.\n",
      "        \n",
      "        The points should be specified as sequences (or iterables) of\n",
      "        coordinates.  Both inputs must have the same dimension.\n",
      "        \n",
      "        Roughly equivalent to:\n",
      "            sqrt(sum((px - qx) ** 2.0 for px, qx in zip(p, q)))\n",
      "    \n",
      "    erf(x, /)\n",
      "        Error function at x.\n",
      "    \n",
      "    erfc(x, /)\n",
      "        Complementary error function at x.\n",
      "    \n",
      "    exp(x, /)\n",
      "        Return e raised to the power of x.\n",
      "    \n",
      "    exp2(x, /)\n",
      "        Return 2 raised to the power of x.\n",
      "    \n",
      "    expm1(x, /)\n",
      "        Return exp(x)-1.\n",
      "        \n",
      "        This function avoids the loss of precision involved in the direct evaluation of exp(x)-1 for small x.\n",
      "    \n",
      "    fabs(x, /)\n",
      "        Return the absolute value of the float x.\n",
      "    \n",
      "    factorial(n, /)\n",
      "        Find n!.\n",
      "        \n",
      "        Raise a ValueError if x is negative or non-integral.\n",
      "    \n",
      "    floor(x, /)\n",
      "        Return the floor of x as an Integral.\n",
      "        \n",
      "        This is the largest integer <= x.\n",
      "    \n",
      "    fmod(x, y, /)\n",
      "        Return fmod(x, y), according to platform C.\n",
      "        \n",
      "        x % y may differ.\n",
      "    \n",
      "    frexp(x, /)\n",
      "        Return the mantissa and exponent of x, as pair (m, e).\n",
      "        \n",
      "        m is a float and e is an int, such that x = m * 2.**e.\n",
      "        If x is 0, m and e are both 0.  Else 0.5 <= abs(m) < 1.0.\n",
      "    \n",
      "    fsum(seq, /)\n",
      "        Return an accurate floating point sum of values in the iterable seq.\n",
      "        \n",
      "        Assumes IEEE-754 floating point arithmetic.\n",
      "    \n",
      "    gamma(x, /)\n",
      "        Gamma function at x.\n",
      "    \n",
      "    gcd(*integers)\n",
      "        Greatest Common Divisor.\n",
      "    \n",
      "    hypot(...)\n",
      "        hypot(*coordinates) -> value\n",
      "        \n",
      "        Multidimensional Euclidean distance from the origin to a point.\n",
      "        \n",
      "        Roughly equivalent to:\n",
      "            sqrt(sum(x**2 for x in coordinates))\n",
      "        \n",
      "        For a two dimensional point (x, y), gives the hypotenuse\n",
      "        using the Pythagorean theorem:  sqrt(x*x + y*y).\n",
      "        \n",
      "        For example, the hypotenuse of a 3/4/5 right triangle is:\n",
      "        \n",
      "            >>> hypot(3.0, 4.0)\n",
      "            5.0\n",
      "    \n",
      "    isclose(a, b, *, rel_tol=1e-09, abs_tol=0.0)\n",
      "        Determine whether two floating point numbers are close in value.\n",
      "        \n",
      "          rel_tol\n",
      "            maximum difference for being considered \"close\", relative to the\n",
      "            magnitude of the input values\n",
      "          abs_tol\n",
      "            maximum difference for being considered \"close\", regardless of the\n",
      "            magnitude of the input values\n",
      "        \n",
      "        Return True if a is close in value to b, and False otherwise.\n",
      "        \n",
      "        For the values to be considered close, the difference between them\n",
      "        must be smaller than at least one of the tolerances.\n",
      "        \n",
      "        -inf, inf and NaN behave similarly to the IEEE 754 Standard.  That\n",
      "        is, NaN is not close to anything, even itself.  inf and -inf are\n",
      "        only close to themselves.\n",
      "    \n",
      "    isfinite(x, /)\n",
      "        Return True if x is neither an infinity nor a NaN, and False otherwise.\n",
      "    \n",
      "    isinf(x, /)\n",
      "        Return True if x is a positive or negative infinity, and False otherwise.\n",
      "    \n",
      "    isnan(x, /)\n",
      "        Return True if x is a NaN (not a number), and False otherwise.\n",
      "    \n",
      "    isqrt(n, /)\n",
      "        Return the integer part of the square root of the input.\n",
      "    \n",
      "    lcm(*integers)\n",
      "        Least Common Multiple.\n",
      "    \n",
      "    ldexp(x, i, /)\n",
      "        Return x * (2**i).\n",
      "        \n",
      "        This is essentially the inverse of frexp().\n",
      "    \n",
      "    lgamma(x, /)\n",
      "        Natural logarithm of absolute value of Gamma function at x.\n",
      "    \n",
      "    log(...)\n",
      "        log(x, [base=math.e])\n",
      "        Return the logarithm of x to the given base.\n",
      "        \n",
      "        If the base not specified, returns the natural logarithm (base e) of x.\n",
      "    \n",
      "    log10(x, /)\n",
      "        Return the base 10 logarithm of x.\n",
      "    \n",
      "    log1p(x, /)\n",
      "        Return the natural logarithm of 1+x (base e).\n",
      "        \n",
      "        The result is computed in a way which is accurate for x near zero.\n",
      "    \n",
      "    log2(x, /)\n",
      "        Return the base 2 logarithm of x.\n",
      "    \n",
      "    modf(x, /)\n",
      "        Return the fractional and integer parts of x.\n",
      "        \n",
      "        Both results carry the sign of x and are floats.\n",
      "    \n",
      "    nextafter(x, y, /)\n",
      "        Return the next floating-point value after x towards y.\n",
      "    \n",
      "    perm(n, k=None, /)\n",
      "        Number of ways to choose k items from n items without repetition and with order.\n",
      "        \n",
      "        Evaluates to n! / (n - k)! when k <= n and evaluates\n",
      "        to zero when k > n.\n",
      "        \n",
      "        If k is not specified or is None, then k defaults to n\n",
      "        and the function returns n!.\n",
      "        \n",
      "        Raises TypeError if either of the arguments are not integers.\n",
      "        Raises ValueError if either of the arguments are negative.\n",
      "    \n",
      "    pow(x, y, /)\n",
      "        Return x**y (x to the power of y).\n",
      "    \n",
      "    prod(iterable, /, *, start=1)\n",
      "        Calculate the product of all the elements in the input iterable.\n",
      "        \n",
      "        The default start value for the product is 1.\n",
      "        \n",
      "        When the iterable is empty, return the start value.  This function is\n",
      "        intended specifically for use with numeric values and may reject\n",
      "        non-numeric types.\n",
      "    \n",
      "    radians(x, /)\n",
      "        Convert angle x from degrees to radians.\n",
      "    \n",
      "    remainder(x, y, /)\n",
      "        Difference between x and the closest integer multiple of y.\n",
      "        \n",
      "        Return x - n*y where n*y is the closest integer multiple of y.\n",
      "        In the case where x is exactly halfway between two multiples of\n",
      "        y, the nearest even value of n is used. The result is always exact.\n",
      "    \n",
      "    sin(x, /)\n",
      "        Return the sine of x (measured in radians).\n",
      "    \n",
      "    sinh(x, /)\n",
      "        Return the hyperbolic sine of x.\n",
      "    \n",
      "    sqrt(x, /)\n",
      "        Return the square root of x.\n",
      "    \n",
      "    tan(x, /)\n",
      "        Return the tangent of x (measured in radians).\n",
      "    \n",
      "    tanh(x, /)\n",
      "        Return the hyperbolic tangent of x.\n",
      "    \n",
      "    trunc(x, /)\n",
      "        Truncates the Real x to the nearest Integral toward 0.\n",
      "        \n",
      "        Uses the __trunc__ magic method.\n",
      "    \n",
      "    ulp(x, /)\n",
      "        Return the value of the least significant bit of the float x.\n",
      "\n",
      "DATA\n",
      "    e = 2.718281828459045\n",
      "    inf = inf\n",
      "    nan = nan\n",
      "    pi = 3.141592653589793\n",
      "    tau = 6.283185307179586\n",
      "\n",
      "FILE\n",
      "    (built-in)\n",
      "\n",
      "\n"
     ]
    }
   ],
   "source": [
    "help(math)"
   ]
  },
  {
   "cell_type": "code",
   "execution_count": 39,
   "id": "715b9e20-16d5-4be1-a2f0-8b7a926c4b71",
   "metadata": {},
   "outputs": [
    {
     "data": {
      "text/plain": [
       "10.0"
      ]
     },
     "execution_count": 39,
     "metadata": {},
     "output_type": "execute_result"
    }
   ],
   "source": [
    "math.sqrt(100)"
   ]
  },
  {
   "cell_type": "code",
   "execution_count": 40,
   "id": "3182ed59-4624-4f23-ad59-d066b0d15d13",
   "metadata": {},
   "outputs": [
    {
     "data": {
      "text/plain": [
       "0.7451131604793488"
      ]
     },
     "execution_count": 40,
     "metadata": {},
     "output_type": "execute_result"
    }
   ],
   "source": [
    "math.sin(40)"
   ]
  },
  {
   "cell_type": "code",
   "execution_count": 42,
   "id": "cf942fdb-06c0-445d-b7f2-da229842b756",
   "metadata": {},
   "outputs": [
    {
     "data": {
      "text/plain": [
       "0.8939966636005579"
      ]
     },
     "execution_count": 42,
     "metadata": {},
     "output_type": "execute_result"
    }
   ],
   "source": [
    "math.sin(90)"
   ]
  },
  {
   "cell_type": "code",
   "execution_count": 43,
   "id": "3ca321f0-ad74-4c73-b389-ddf783de7bf7",
   "metadata": {},
   "outputs": [
    {
     "data": {
      "text/plain": [
       "2.302585092994046"
      ]
     },
     "execution_count": 43,
     "metadata": {},
     "output_type": "execute_result"
    }
   ],
   "source": [
    "math.log(10)"
   ]
  },
  {
   "cell_type": "markdown",
   "id": "d635981d-1c14-49b1-b5c1-3ae8df45d9f7",
   "metadata": {},
   "source": [
    "##### read the radius and find the area"
   ]
  },
  {
   "cell_type": "code",
   "execution_count": 48,
   "id": "c3280ca7-0b6c-44a4-979a-0bb0a65831b5",
   "metadata": {},
   "outputs": [
    {
     "name": "stdin",
     "output_type": "stream",
     "text": [
      "Enter the radius 5\n"
     ]
    },
    {
     "name": "stdout",
     "output_type": "stream",
     "text": [
      "area of circle is: 78.53981633974483\n"
     ]
    }
   ],
   "source": [
    "radius=float(input('Enter the radius'))\n",
    "print('area of circle is:',math.pi*radius*radius)"
   ]
  },
  {
   "cell_type": "code",
   "execution_count": 50,
   "id": "8d7b4333-093b-4783-b62f-6188561fc214",
   "metadata": {},
   "outputs": [],
   "source": [
    "import time"
   ]
  },
  {
   "cell_type": "code",
   "execution_count": 51,
   "id": "b0684f4a-5207-4f06-9084-528bddf40821",
   "metadata": {},
   "outputs": [
    {
     "data": {
      "text/plain": [
       "'Mon Jun 10 12:18:12 2024'"
      ]
     },
     "execution_count": 51,
     "metadata": {},
     "output_type": "execute_result"
    }
   ],
   "source": [
    "time.asctime()"
   ]
  },
  {
   "cell_type": "code",
   "execution_count": 53,
   "id": "5fd136a8-c95f-4eb3-a8a9-78aa446435c1",
   "metadata": {},
   "outputs": [
    {
     "name": "stdout",
     "output_type": "stream",
     "text": [
      "hello\n",
      "ok\n"
     ]
    }
   ],
   "source": [
    "print('hello')\n",
    "time.sleep(5)\n",
    "print('ok')"
   ]
  },
  {
   "cell_type": "code",
   "execution_count": 55,
   "id": "5c1a3cbf-1800-4afd-b6ef-fcfbd8d5c98f",
   "metadata": {},
   "outputs": [],
   "source": [
    "# giving as alias\n",
    "\n",
    "import math as m"
   ]
  },
  {
   "cell_type": "code",
   "execution_count": 57,
   "id": "9e9bb5f4-1cbb-42d5-8af4-75faa09f7729",
   "metadata": {},
   "outputs": [
    {
     "data": {
      "text/plain": [
       "2.23606797749979"
      ]
     },
     "execution_count": 57,
     "metadata": {},
     "output_type": "execute_result"
    }
   ],
   "source": [
    "m.sqrt(5)"
   ]
  },
  {
   "cell_type": "markdown",
   "id": "f4b49f50-bbd2-4869-b8c4-f28212bb2aa0",
   "metadata": {},
   "source": [
    "#### selective imports"
   ]
  },
  {
   "cell_type": "code",
   "execution_count": 58,
   "id": "1c8bfe86-831f-4500-a421-c241d66ba86a",
   "metadata": {},
   "outputs": [],
   "source": [
    "from math import sqrt,sin,pi"
   ]
  },
  {
   "cell_type": "code",
   "execution_count": 59,
   "id": "7b6d0d62-780e-42fa-b5af-947158d6cc50",
   "metadata": {},
   "outputs": [
    {
     "data": {
      "text/plain": [
       "2.23606797749979"
      ]
     },
     "execution_count": 59,
     "metadata": {},
     "output_type": "execute_result"
    }
   ],
   "source": [
    "sqrt(5)"
   ]
  },
  {
   "cell_type": "code",
   "execution_count": 60,
   "id": "3034cc44-4561-41c7-a56d-8719c6e6d75d",
   "metadata": {},
   "outputs": [
    {
     "data": {
      "text/plain": [
       "3.141592653589793"
      ]
     },
     "execution_count": 60,
     "metadata": {},
     "output_type": "execute_result"
    }
   ],
   "source": [
    "pi"
   ]
  },
  {
   "cell_type": "code",
   "execution_count": null,
   "id": "51be4d03-cf5e-4331-a230-2613753ed155",
   "metadata": {},
   "outputs": [],
   "source": [
    "##### import user defined module\n",
    "\n",
    "import mod1"
   ]
  }
 ],
 "metadata": {
  "kernelspec": {
   "display_name": "Python 3 (ipykernel)",
   "language": "python",
   "name": "python3"
  },
  "language_info": {
   "codemirror_mode": {
    "name": "ipython",
    "version": 3
   },
   "file_extension": ".py",
   "mimetype": "text/x-python",
   "name": "python",
   "nbconvert_exporter": "python",
   "pygments_lexer": "ipython3",
   "version": "3.11.7"
  }
 },
 "nbformat": 4,
 "nbformat_minor": 5
}
